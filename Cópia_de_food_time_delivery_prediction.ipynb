{
 "cells": [
  {
   "cell_type": "markdown",
   "metadata": {
    "id": "E4KZNQ-Lc2JE"
   },
   "source": [
    "# Previsão de entrega por delivey\n",
    "\n",
    "# 0. Introdução\n",
    "\n",
    "\n",
    "\n",
    "<p align=center>\n",
    "  <img src=\"https://img.freepik.com/vetores-premium/encomende-por-telefone-e-receba-a-comida-na-porta_23-2148555891.jpg?w=2000\" width=\"60%\">\n",
    "</p>\n",
    "\n",
    "Prever a duração da entrega de um pedido representa um desafio considerável para qualquer serviço de entrega de alimentos. Entre as metodologias mais eficazes para antecipar o tempo de entrega está a avaliação da extensão geográfica entre o local de retirada do pedido e seu destino pretendido. Essa informação é então utilizada para prever o tempo de entrega, baseando-se em dados históricos sobre o tempo que os parceiros de entrega levaram para cumprir pedidos de distâncias comparáveis no passado.\n",
    "\n",
    "A previsão do tempo de entrega geralmente se enquadra no domínio da modelagem de regressão. A regressão é um tipo de aprendizado de máquina supervisionado em que o objetivo é prever uma saída numérica contínua com base em características de entrada. No contexto da previsão do tempo de entrega, o objetivo é prever uma variável contínua (o tempo de entrega) com base em várias características de entrada, como atributos da pessoa de entrega, coordenadas de localização, tipo de pedido, tipo de veículo, etc.\n",
    "\n",
    "Existem várias técnicas de regressão disponíveis para construir um modelo de previsão de tempo de entrega, incluindo:\n",
    "\n",
    "**Regressão Linear:** Modelos de regressão linear pressupõem uma relação linear entre características de entrada e a variável alvo. Esta abordagem é ideal quando a relação é aproximadamente linear.\n",
    "\n",
    "**Regressão de Random Fores:** Random forest é um método de conjunto que combina múltiplas árvores de decisão para previsões. Ele se destaca na captura de relações não lineares e interações entre características.\n",
    "\n",
    "**Regressão por Gradiente Boosting:** O gradiente boosting monta árvores de decisão sequencialmente para corrigir os erros das árvores anteriores. É notavelmente eficaz para tarefas preditivas.\n",
    "\n",
    "**Regressão por Vetores de Suporte (SVR):** SVR tem suas raízes nas máquinas de vetores de suporte e se destaca ao lidar com padrões não lineares nos dados."
   ]
  },
  {
   "cell_type": "code",
   "execution_count": 1,
   "metadata": {
    "id": "ZaO8XQv6cser"
   },
   "outputs": [],
   "source": [
    "# Importando pacotes\n",
    "\n",
    "# pacotes de análise\n",
    "import pandas as pd\n",
    "import numpy as np\n",
    "import matplotlib.pyplot as plt\n",
    "import seaborn as sns\n",
    "\n",
    "# ignorando avisos\n",
    "import warnings\n",
    "warnings.filterwarnings('ignore')\n",
    "\n",
    "# processamento de dados\n",
    "from sklearn.impute import SimpleImputer\n",
    "from sklearn.model_selection import train_test_split\n",
    "from sklearn.preprocessing import StandardScaler, MinMaxScaler\n",
    "from sklearn.preprocessing import OneHotEncoder, LabelEncoder\n",
    "\n",
    "# modelos\n",
    "from sklearn.linear_model import LinearRegression, Ridge, Lasso, ElasticNet\n",
    "from sklearn.ensemble import RandomForestRegressor, GradientBoostingRegressor\n",
    "from sklearn.svm import SVR\n",
    "\n",
    "\n",
    "# avaliação e testes\n",
    "from sklearn.metrics import make_scorer, r2_score, mean_absolute_error, mean_squared_error, mean_squared_log_error\n",
    "from sklearn.model_selection import learning_curve\n",
    "from sklearn.model_selection import cross_validate, KFold\n",
    "from sklearn.model_selection import GridSearchCV\n",
    "from sklearn.model_selection import cross_val_score"
   ]
  },
  {
   "cell_type": "code",
   "execution_count": 2,
   "metadata": {
    "colab": {
     "base_uri": "https://localhost:8080/",
     "height": 226
    },
    "id": "j3CqsOFbdWtQ",
    "outputId": "402fd19f-cc17-4018-d2c9-0f6a765fda05"
   },
   "outputs": [
    {
     "data": {
      "text/html": [
       "<div>\n",
       "<style scoped>\n",
       "    .dataframe tbody tr th:only-of-type {\n",
       "        vertical-align: middle;\n",
       "    }\n",
       "\n",
       "    .dataframe tbody tr th {\n",
       "        vertical-align: top;\n",
       "    }\n",
       "\n",
       "    .dataframe thead th {\n",
       "        text-align: right;\n",
       "    }\n",
       "</style>\n",
       "<table border=\"1\" class=\"dataframe\">\n",
       "  <thead>\n",
       "    <tr style=\"text-align: right;\">\n",
       "      <th></th>\n",
       "      <th>ID</th>\n",
       "      <th>Delivery_person_ID</th>\n",
       "      <th>Delivery_person_Age</th>\n",
       "      <th>Delivery_person_Ratings</th>\n",
       "      <th>Restaurant_latitude</th>\n",
       "      <th>Restaurant_longitude</th>\n",
       "      <th>Delivery_location_latitude</th>\n",
       "      <th>Delivery_location_longitude</th>\n",
       "      <th>Type_of_order</th>\n",
       "      <th>Type_of_vehicle</th>\n",
       "      <th>Time_taken(min)</th>\n",
       "    </tr>\n",
       "  </thead>\n",
       "  <tbody>\n",
       "    <tr>\n",
       "      <th>0</th>\n",
       "      <td>4607</td>\n",
       "      <td>INDORES13DEL02</td>\n",
       "      <td>37</td>\n",
       "      <td>4.9</td>\n",
       "      <td>22.745049</td>\n",
       "      <td>75.892471</td>\n",
       "      <td>22.765049</td>\n",
       "      <td>75.912471</td>\n",
       "      <td>Snack</td>\n",
       "      <td>motorcycle</td>\n",
       "      <td>24</td>\n",
       "    </tr>\n",
       "    <tr>\n",
       "      <th>1</th>\n",
       "      <td>B379</td>\n",
       "      <td>BANGRES18DEL02</td>\n",
       "      <td>34</td>\n",
       "      <td>4.5</td>\n",
       "      <td>12.913041</td>\n",
       "      <td>77.683237</td>\n",
       "      <td>13.043041</td>\n",
       "      <td>77.813237</td>\n",
       "      <td>Snack</td>\n",
       "      <td>scooter</td>\n",
       "      <td>33</td>\n",
       "    </tr>\n",
       "    <tr>\n",
       "      <th>2</th>\n",
       "      <td>5D6D</td>\n",
       "      <td>BANGRES19DEL01</td>\n",
       "      <td>23</td>\n",
       "      <td>4.4</td>\n",
       "      <td>12.914264</td>\n",
       "      <td>77.678400</td>\n",
       "      <td>12.924264</td>\n",
       "      <td>77.688400</td>\n",
       "      <td>Drinks</td>\n",
       "      <td>motorcycle</td>\n",
       "      <td>26</td>\n",
       "    </tr>\n",
       "    <tr>\n",
       "      <th>3</th>\n",
       "      <td>7A6A</td>\n",
       "      <td>COIMBRES13DEL02</td>\n",
       "      <td>38</td>\n",
       "      <td>4.7</td>\n",
       "      <td>11.003669</td>\n",
       "      <td>76.976494</td>\n",
       "      <td>11.053669</td>\n",
       "      <td>77.026494</td>\n",
       "      <td>Buffet</td>\n",
       "      <td>motorcycle</td>\n",
       "      <td>21</td>\n",
       "    </tr>\n",
       "    <tr>\n",
       "      <th>4</th>\n",
       "      <td>70A2</td>\n",
       "      <td>CHENRES12DEL01</td>\n",
       "      <td>32</td>\n",
       "      <td>4.6</td>\n",
       "      <td>12.972793</td>\n",
       "      <td>80.249982</td>\n",
       "      <td>13.012793</td>\n",
       "      <td>80.289982</td>\n",
       "      <td>Snack</td>\n",
       "      <td>scooter</td>\n",
       "      <td>30</td>\n",
       "    </tr>\n",
       "  </tbody>\n",
       "</table>\n",
       "</div>"
      ],
      "text/plain": [
       "     ID Delivery_person_ID  Delivery_person_Age  Delivery_person_Ratings  \\\n",
       "0  4607     INDORES13DEL02                   37                      4.9   \n",
       "1  B379     BANGRES18DEL02                   34                      4.5   \n",
       "2  5D6D     BANGRES19DEL01                   23                      4.4   \n",
       "3  7A6A    COIMBRES13DEL02                   38                      4.7   \n",
       "4  70A2     CHENRES12DEL01                   32                      4.6   \n",
       "\n",
       "   Restaurant_latitude  Restaurant_longitude  Delivery_location_latitude  \\\n",
       "0            22.745049             75.892471                   22.765049   \n",
       "1            12.913041             77.683237                   13.043041   \n",
       "2            12.914264             77.678400                   12.924264   \n",
       "3            11.003669             76.976494                   11.053669   \n",
       "4            12.972793             80.249982                   13.012793   \n",
       "\n",
       "   Delivery_location_longitude Type_of_order Type_of_vehicle  Time_taken(min)  \n",
       "0                    75.912471        Snack      motorcycle                24  \n",
       "1                    77.813237        Snack         scooter                33  \n",
       "2                    77.688400       Drinks      motorcycle                26  \n",
       "3                    77.026494       Buffet      motorcycle                21  \n",
       "4                    80.289982        Snack         scooter                30  "
      ]
     },
     "execution_count": 2,
     "metadata": {},
     "output_type": "execute_result"
    }
   ],
   "source": [
    "# importando dados\n",
    "df = pd.read_excel('Food Delivery Time Prediction Case Study.xlsx')\n",
    "\n",
    "df.head()"
   ]
  },
  {
   "cell_type": "markdown",
   "metadata": {
    "id": "UO0_cI_IjcJI"
   },
   "source": [
    "## 1. Informação dos dados e análise univariada"
   ]
  },
  {
   "cell_type": "code",
   "execution_count": 3,
   "metadata": {
    "colab": {
     "base_uri": "https://localhost:8080/"
    },
    "id": "waLU-IFIdtn4",
    "outputId": "346ccaa0-f466-48aa-d888-6dcd4c844f54"
   },
   "outputs": [],
   "source": [
    "def data_info(df):\n",
    "    print('Número de entradas (linhas): ', df.shape[0])\n",
    "    print('\\nNúmero de variáveis (colunas): ', df.shape[1])\n",
    "    print(\"\\nNome das variáveis:\\n{}\".format(df.columns.values))\n",
    "    print(\"\\nTipos de cada variável:\\n{}\".format(df.dtypes))\n",
    "    print(\"\\nValores únicos (por coluna):\\n{}\".format(df.nunique().sort_values(ascending=False)))\n",
    "    print(\"\\nPorcentagem de valores ausentes (por coluna):\\n{}\".format((df.isnull().sum() * 100 / df.shape[0]).sort_values(ascending=False)))"
   ]
  },
  {
   "cell_type": "code",
   "execution_count": 4,
   "metadata": {},
   "outputs": [
    {
     "name": "stdout",
     "output_type": "stream",
     "text": [
      "Número de entradas (linhas):  45593\n",
      "\n",
      "Número de variáveis (colunas):  11\n",
      "\n",
      "Nome das variáveis:\n",
      "['ID' 'Delivery_person_ID' 'Delivery_person_Age' 'Delivery_person_Ratings'\n",
      " 'Restaurant_latitude' 'Restaurant_longitude' 'Delivery_location_latitude'\n",
      " 'Delivery_location_longitude' 'Type_of_order' 'Type_of_vehicle'\n",
      " 'Time_taken(min)']\n",
      "\n",
      "Tipos de cada variável:\n",
      "ID                              object\n",
      "Delivery_person_ID              object\n",
      "Delivery_person_Age              int64\n",
      "Delivery_person_Ratings        float64\n",
      "Restaurant_latitude            float64\n",
      "Restaurant_longitude           float64\n",
      "Delivery_location_latitude     float64\n",
      "Delivery_location_longitude    float64\n",
      "Type_of_order                   object\n",
      "Type_of_vehicle                 object\n",
      "Time_taken(min)                  int64\n",
      "dtype: object\n",
      "\n",
      "Valores únicos (por coluna):\n",
      "ID                             45355\n",
      "Delivery_location_latitude      4373\n",
      "Delivery_location_longitude     4373\n",
      "Delivery_person_ID              1320\n",
      "Restaurant_latitude              657\n",
      "Restaurant_longitude             518\n",
      "Time_taken(min)                   45\n",
      "Delivery_person_Ratings           28\n",
      "Delivery_person_Age               22\n",
      "Type_of_order                      4\n",
      "Type_of_vehicle                    4\n",
      "dtype: int64\n",
      "\n",
      "Porcentagem de valores ausentes (por coluna):\n",
      "ID                             0.0\n",
      "Delivery_person_ID             0.0\n",
      "Delivery_person_Age            0.0\n",
      "Delivery_person_Ratings        0.0\n",
      "Restaurant_latitude            0.0\n",
      "Restaurant_longitude           0.0\n",
      "Delivery_location_latitude     0.0\n",
      "Delivery_location_longitude    0.0\n",
      "Type_of_order                  0.0\n",
      "Type_of_vehicle                0.0\n",
      "Time_taken(min)                0.0\n",
      "dtype: float64\n"
     ]
    }
   ],
   "source": [
    "data_info(df)"
   ]
  },
  {
   "cell_type": "code",
   "execution_count": 5,
   "metadata": {
    "colab": {
     "base_uri": "https://localhost:8080/"
    },
    "id": "6P6F0ysHeve3",
    "outputId": "c70d5b80-231b-470a-e6f6-a56234ac9ea3"
   },
   "outputs": [
    {
     "data": {
      "text/plain": [
       "array(['Snack ', 'Drinks ', 'Buffet ', 'Meal '], dtype=object)"
      ]
     },
     "execution_count": 5,
     "metadata": {},
     "output_type": "execute_result"
    }
   ],
   "source": [
    "df.Type_of_order.unique()"
   ]
  },
  {
   "cell_type": "code",
   "execution_count": 6,
   "metadata": {
    "colab": {
     "base_uri": "https://localhost:8080/"
    },
    "id": "mn2-4Xe6e-Qv",
    "outputId": "292daaaf-cf49-4686-8121-6b47f90f99da"
   },
   "outputs": [
    {
     "data": {
      "text/plain": [
       "array(['motorcycle ', 'scooter ', 'electric_scooter ', 'bicycle '],\n",
       "      dtype=object)"
      ]
     },
     "execution_count": 6,
     "metadata": {},
     "output_type": "execute_result"
    }
   ],
   "source": [
    "df.Type_of_vehicle.unique()"
   ]
  },
  {
   "cell_type": "markdown",
   "metadata": {
    "id": "b2yYzaXJuCYB"
   },
   "source": [
    "`ID`: Um identificador único para cada registro de entrega.\n",
    "\n",
    "`Delivery_person_ID`: Um identificador único para a pessoa responsável pela entrega.\n",
    "\n",
    "`Delivery_person_Age`: A idade da pessoa responsável pela entrega.\n",
    "\n",
    "`Delivery_person_Ratings`: As avaliações ou feedback do entregador, recebidos pelos clientes, refletindo a qualidade do serviço.\n",
    "\n",
    "`Restaurant_latitude`: A coordenada de latitude do restaurante onde o pedido é preparado.\n",
    "\n",
    "`Restaurant_longitude`: A coordenada de longitude do restaurante onde o pedido é preparado.\n",
    "\n",
    "`Delivery_location_latitude`: A coordenada de latitude do local de entrega onde o pedido será entregue.\n",
    "\n",
    "`Delivery_location_longitude`: A coordenada de longitude do local de entrega onde o pedido será entregue.\n",
    "\n",
    "`Type_of_order`: A categoria ou tipo do pedido, que pode ser `'Snack ', 'Drinks ', 'Buffet ', 'Meal '`.\n",
    "\n",
    "`Type_of_vehicle`: O tipo de veículo usado para a entrega, indicando se é `'motorcycle', 'scooter', 'electric_scooter', 'bicycle'`.\n",
    "\n",
    "`Time_taken(min)`: O tempo necessário para completar a entrega, medido em minutos."
   ]
  },
  {
   "cell_type": "code",
   "execution_count": 7,
   "metadata": {},
   "outputs": [
    {
     "data": {
      "image/png": "[encoded data removed]",
      "text/plain": [
       "<Figure size 1500x400 with 2 Axes>"
      ]
     },
     "metadata": {},
     "output_type": "display_data"
    }
   ],
   "source": [
    "sns.set_theme(style = \"white\")\n",
    "\n",
    "fig, ((ax1, ax2)) = plt.subplots(1,2, figsize = (15,4))\n",
    "\n",
    "#ax1 \n",
    "sns.countplot(data=df, x= df['Type_of_order'], palette = \"Blues_r\", width = 0.5, ax= ax1)\n",
    "ax1.set_title(\"Contagem dos tipos de pedidos\", loc ='left', fontsize=15)\n",
    "ax1.set_yticklabels([])\n",
    "ax1.set_xticklabels(['Lanche', 'Bebidas', 'Bufê', 'Refeição'])\n",
    "ax1.set_ylabel('')\n",
    "ax1.set_xlabel('')\n",
    "sns.despine(left=True, ax=ax1)\n",
    "\n",
    "total = len(df['Type_of_order'])\n",
    "for p in ax1.patches:\n",
    "    percentage = '{:.1f}%'.format(100*p.get_height()/total)\n",
    "    x = p.get_x() + p.get_width()/5\n",
    "    y = p.get_y() + p.get_height()*1.02\n",
    "    ax1.annotate(percentage, (x,y), size = 10)\n",
    "    \n",
    "    \n",
    "#ax2\n",
    "sns.countplot(data=df, x= df['Type_of_vehicle'], palette = \"Blues_r\", width = 0.5, ax= ax2)\n",
    "ax2.set_title(\"Contagem dos tipos de veículos\", loc ='left', fontsize=15)\n",
    "ax2.set_yticklabels([])\n",
    "ax2.set_xticklabels(['Motocicleta', 'Patinetes', 'Panitete elétrico', 'Bicicletas'])\n",
    "ax2.set_ylabel('')\n",
    "ax2.set_xlabel('')\n",
    "sns.despine(left=True, ax=ax2)\n",
    "\n",
    "total = len(df['Type_of_vehicle'])\n",
    "for p in ax2.patches:\n",
    "    percentage = '{:.1f}%'.format(100*p.get_height()/total)\n",
    "    x = p.get_x() + p.get_width()/4\n",
    "    y = p.get_y() + p.get_height()*1.02\n",
    "    ax2.annotate(percentage, (x,y), size = 10)    "
   ]
  },
  {
   "cell_type": "markdown",
   "metadata": {},
   "source": [
    "Na análise das variáveis categóricas, observa-se que:\n",
    "\n",
    "* O tipo de pedido mais popular é o de lanches, enquanto o menos solicitado é o de bufê. Em segundo lugar em termos de demanda estão as refeições.\n",
    "* O meio de transporte mais frequente entre os entregadores é a motocicleta, enquanto o menos utilizado é a bicicleta.\n",
    "\n",
    "\n",
    "\n",
    "\n"
   ]
  },
  {
   "cell_type": "code",
   "execution_count": 8,
   "metadata": {
    "colab": {
     "base_uri": "https://localhost:8080/",
     "height": 300
    },
    "id": "eggsA75ifE4v",
    "outputId": "fa2b305a-e234-4dd7-8641-ddebe150c987"
   },
   "outputs": [
    {
     "data": {
      "text/html": [
       "<div>\n",
       "<style scoped>\n",
       "    .dataframe tbody tr th:only-of-type {\n",
       "        vertical-align: middle;\n",
       "    }\n",
       "\n",
       "    .dataframe tbody tr th {\n",
       "        vertical-align: top;\n",
       "    }\n",
       "\n",
       "    .dataframe thead th {\n",
       "        text-align: right;\n",
       "    }\n",
       "</style>\n",
       "<table border=\"1\" class=\"dataframe\">\n",
       "  <thead>\n",
       "    <tr style=\"text-align: right;\">\n",
       "      <th></th>\n",
       "      <th>Delivery_person_Age</th>\n",
       "      <th>Delivery_person_Ratings</th>\n",
       "      <th>Restaurant_latitude</th>\n",
       "      <th>Restaurant_longitude</th>\n",
       "      <th>Delivery_location_latitude</th>\n",
       "      <th>Delivery_location_longitude</th>\n",
       "      <th>Time_taken(min)</th>\n",
       "    </tr>\n",
       "  </thead>\n",
       "  <tbody>\n",
       "    <tr>\n",
       "      <th>count</th>\n",
       "      <td>45593.000000</td>\n",
       "      <td>45593.000000</td>\n",
       "      <td>45593.000000</td>\n",
       "      <td>45593.000000</td>\n",
       "      <td>45593.000000</td>\n",
       "      <td>45593.000000</td>\n",
       "      <td>45593.000000</td>\n",
       "    </tr>\n",
       "    <tr>\n",
       "      <th>mean</th>\n",
       "      <td>29.544075</td>\n",
       "      <td>4.632367</td>\n",
       "      <td>17.017729</td>\n",
       "      <td>70.231332</td>\n",
       "      <td>17.465186</td>\n",
       "      <td>70.845702</td>\n",
       "      <td>26.294607</td>\n",
       "    </tr>\n",
       "    <tr>\n",
       "      <th>std</th>\n",
       "      <td>5.696793</td>\n",
       "      <td>0.327708</td>\n",
       "      <td>8.185109</td>\n",
       "      <td>22.883647</td>\n",
       "      <td>7.335122</td>\n",
       "      <td>21.118812</td>\n",
       "      <td>9.383806</td>\n",
       "    </tr>\n",
       "    <tr>\n",
       "      <th>min</th>\n",
       "      <td>15.000000</td>\n",
       "      <td>1.000000</td>\n",
       "      <td>-30.905562</td>\n",
       "      <td>-88.366217</td>\n",
       "      <td>0.010000</td>\n",
       "      <td>0.010000</td>\n",
       "      <td>10.000000</td>\n",
       "    </tr>\n",
       "    <tr>\n",
       "      <th>25%</th>\n",
       "      <td>25.000000</td>\n",
       "      <td>4.600000</td>\n",
       "      <td>12.933284</td>\n",
       "      <td>73.170000</td>\n",
       "      <td>12.988453</td>\n",
       "      <td>73.280000</td>\n",
       "      <td>19.000000</td>\n",
       "    </tr>\n",
       "    <tr>\n",
       "      <th>50%</th>\n",
       "      <td>29.000000</td>\n",
       "      <td>4.700000</td>\n",
       "      <td>18.546947</td>\n",
       "      <td>75.898497</td>\n",
       "      <td>18.633934</td>\n",
       "      <td>76.002574</td>\n",
       "      <td>26.000000</td>\n",
       "    </tr>\n",
       "    <tr>\n",
       "      <th>75%</th>\n",
       "      <td>34.000000</td>\n",
       "      <td>4.800000</td>\n",
       "      <td>22.728163</td>\n",
       "      <td>78.044095</td>\n",
       "      <td>22.785049</td>\n",
       "      <td>78.107044</td>\n",
       "      <td>32.000000</td>\n",
       "    </tr>\n",
       "    <tr>\n",
       "      <th>max</th>\n",
       "      <td>50.000000</td>\n",
       "      <td>6.000000</td>\n",
       "      <td>30.914057</td>\n",
       "      <td>88.433452</td>\n",
       "      <td>31.054057</td>\n",
       "      <td>88.563452</td>\n",
       "      <td>54.000000</td>\n",
       "    </tr>\n",
       "  </tbody>\n",
       "</table>\n",
       "</div>"
      ],
      "text/plain": [
       "       Delivery_person_Age  Delivery_person_Ratings  Restaurant_latitude  \\\n",
       "count         45593.000000             45593.000000         45593.000000   \n",
       "mean             29.544075                 4.632367            17.017729   \n",
       "std               5.696793                 0.327708             8.185109   \n",
       "min              15.000000                 1.000000           -30.905562   \n",
       "25%              25.000000                 4.600000            12.933284   \n",
       "50%              29.000000                 4.700000            18.546947   \n",
       "75%              34.000000                 4.800000            22.728163   \n",
       "max              50.000000                 6.000000            30.914057   \n",
       "\n",
       "       Restaurant_longitude  Delivery_location_latitude  \\\n",
       "count          45593.000000                45593.000000   \n",
       "mean              70.231332                   17.465186   \n",
       "std               22.883647                    7.335122   \n",
       "min              -88.366217                    0.010000   \n",
       "25%               73.170000                   12.988453   \n",
       "50%               75.898497                   18.633934   \n",
       "75%               78.044095                   22.785049   \n",
       "max               88.433452                   31.054057   \n",
       "\n",
       "       Delivery_location_longitude  Time_taken(min)  \n",
       "count                 45593.000000     45593.000000  \n",
       "mean                     70.845702        26.294607  \n",
       "std                      21.118812         9.383806  \n",
       "min                       0.010000        10.000000  \n",
       "25%                      73.280000        19.000000  \n",
       "50%                      76.002574        26.000000  \n",
       "75%                      78.107044        32.000000  \n",
       "max                      88.563452        54.000000  "
      ]
     },
     "execution_count": 8,
     "metadata": {},
     "output_type": "execute_result"
    }
   ],
   "source": [
    "df.describe()"
   ]
  },
  {
   "cell_type": "markdown",
   "metadata": {
    "id": "GjeWh39CuETI"
   },
   "source": [
    "Sobre as variáveis numéricas:\n",
    "\n",
    "* A idade máxima de um entregador é 50 anos, com uma média em torno de 29 anos e a mínima é de 15 anos.\n",
    "\n",
    "* As avaliações do entregador variam de 1 a 6.\n",
    "\n",
    "* O tempo máximo (em minutos) de uma entrega é 54 minutos, e o mínimo é 10 minutos."
   ]
  },
  {
   "cell_type": "markdown",
   "metadata": {},
   "source": [
    "# 2. Análise bivariada"
   ]
  },
  {
   "cell_type": "code",
   "execution_count": 9,
   "metadata": {},
   "outputs": [
    {
     "name": "stdout",
     "output_type": "stream",
     "text": [
      "Média de tempo de entrega para cada tipo de pedido:\n",
      "Type_of_order\n",
      "Meal       26.419270\n",
      "Snack      26.286309\n",
      "Buffet     26.283511\n",
      "Drinks     26.187953\n",
      "Name: Time_taken(min), dtype: float64\n"
     ]
    }
   ],
   "source": [
    "print('Média de tempo de entrega para cada tipo de pedido:')\n",
    "print(df.groupby('Type_of_order')['Time_taken(min)'].mean().sort_values(ascending=False))"
   ]
  },
  {
   "cell_type": "markdown",
   "metadata": {},
   "source": [
    "Ao analisar os tempos médios de entrega para cada tipo de pedido, percebe-se uma mínima variação entre as categorias. Refeições (Meal), lanches (Snack), bufê (Buffet) e bebidas (Drinks) têm tempos médios de entrega extremamente próximos, todos aproximadamente em torno de 26 minutos"
   ]
  },
  {
   "cell_type": "code",
   "execution_count": 10,
   "metadata": {},
   "outputs": [
    {
     "name": "stdout",
     "output_type": "stream",
     "text": [
      "Média de tempo de entrega para cada veículo utilizado:\n",
      "Type_of_vehicle\n",
      "motorcycle           27.605674\n",
      "bicycle              26.426471\n",
      "scooter              24.480754\n",
      "electric_scooter     24.470110\n",
      "Name: Time_taken(min), dtype: float64\n"
     ]
    }
   ],
   "source": [
    "print('Média de tempo de entrega para cada veículo utilizado:')\n",
    "print(df.groupby('Type_of_vehicle')['Time_taken(min)'].mean().sort_values(ascending=False))"
   ]
  },
  {
   "cell_type": "markdown",
   "metadata": {},
   "source": [
    "\n",
    "Analisando as médias de tempo de entrega para cada tipo de veículo utilizado, nota-se algumas diferenças sutis nos tempos médios. As entregas feitas por motocicletas têm uma média ligeiramente mais alta, em torno de 27.6 minutos, enquanto as entregas realizadas por bicicletas têm uma média próxima, em torno de 26.4 minutos. Por outro lado, tanto os patinetes (scooter) quanto os patinetes elétricos (electric_scooter) apresentam médias mais baixas, em torno de 24.5 minutos"
   ]
  },
  {
   "cell_type": "markdown",
   "metadata": {},
   "source": [
    "## Matriz de correlação"
   ]
  },
  {
   "cell_type": "code",
   "execution_count": 11,
   "metadata": {
    "colab": {
     "base_uri": "https://localhost:8080/",
     "height": 875
    },
    "id": "m4iG81Vbl6pw",
    "outputId": "ad8286d8-266b-40e0-c1c7-0c5ac180d80d"
   },
   "outputs": [
    {
     "data": {
      "image/png": "[encoded data removed]",
      "text/plain": [
       "<Figure size 800x600 with 2 Axes>"
      ]
     },
     "metadata": {},
     "output_type": "display_data"
    }
   ],
   "source": [
    "numeric_df = df.select_dtypes(include=np.number)\n",
    "\n",
    "corr = numeric_df.corr()\n",
    "\n",
    "mask = np.triu(np.ones_like(corr, dtype=bool))\n",
    "\n",
    "plt.figure(figsize=(8, 6))\n",
    "sns.heatmap(corr, mask=mask, annot=True, cmap='coolwarm', vmin=-1, vmax=1, annot_kws={\"fontsize\": 8})\n",
    "plt.title(\"Matriz de correlação de Pearson\", loc= 'left')\n",
    "plt.tight_layout()\n",
    "plt.show()"
   ]
  },
  {
   "cell_type": "markdown",
   "metadata": {
    "id": "wg-iYqgfomUN"
   },
   "source": [
    "* A correlação de -0,067 entre `Delivery_person_Ratings` e `Delivery_person_Age` indica uma relação muito fraca e praticamente insignificante entre a idade do entregador e suas avaliações.\n",
    "\n",
    "* A correlação de 0,66 entre `Restaurant_longitude` e `Restaurant_latitude` sugere uma associação moderada e positiva entre a longitude e a latitude dos restaurantes, indicando que locais com longitudes maiores tendem a ter latitudes maiores, e vice-versa.\n",
    "\n",
    "* Correlações mais altas, como 0,87 entre `Delivery_location_latitude` e `Restaurant_latitude`, 0,63 entre `Delivery_location_latitude` e `Restaurant_longitude`, e 0,6 entre `Delivery_location_longitude` e `Restaurant_latitude`, indicam uma relação significativa entre as coordenadas de entrega e as coordenadas do restaurante. Isso sugere que os locais de entrega estão correlacionados com a localização do restaurante, o que faz sentido para a entrega de pedidos.\n",
    "\n",
    "* A forte correlação de 0,92 entre `Delivery_location_longitude` e `Restaurant_longitude` também destaca uma forte associação entre as longitudes do local de entrega e do restaurante, indicando uma proximidade geográfica entre esses locais.\n",
    "\n",
    "* A correlação de 0,69 entre `Delivery_location_longitude` e `Delivery_location_latitude` sugere uma relação moderada entre as coordenadas de entrega, indicando que locais com uma longitude específica tendem a ter uma latitude correspondente.\n",
    "\n",
    "* Por fim, as correlações de 0,29 entre `Time_taken(min)` e `Delivery_person_Age` e de -0,33 entre `Time_taken(min)` e `Delivery_person_Ratings` são indicativos de relações relativamente fracas entre o tempo de entrega e a idade ou avaliações do entregador, mas ainda merecem alguma consideração."
   ]
  },
  {
   "cell_type": "markdown",
   "metadata": {
    "id": "aBZUzcEAwCl2"
   },
   "source": [
    "# 3. Feature engineering e novas informações"
   ]
  },
  {
   "cell_type": "markdown",
   "metadata": {
    "id": "I0A1SqNawGjH"
   },
   "source": [
    "Para avançar no projeto, são necessários vários ajustes no DataFrame. Serão introduzidas duas colunas adicionais para capturar informações pertinentes. A primeira coluna refletirá a distância de deslocamento entre o restaurante e o cliente, enquanto a segunda representará a velocidade associada a cada tipo de veículo.\n",
    "\n",
    "Para uma melhor organização do DataFrame, as colunas ID e Delivery_person_ID serão eliminadas. Inicialmente, essas colunas não contribuem para a construção do modelo de aprendizado de máquina.\n",
    "\n",
    "Revisões na estrutura do DataFrame facilitarão uma abordagem mais eficiente para aprimorar a eficácia do modelo."
   ]
  },
  {
   "cell_type": "code",
   "execution_count": 12,
   "metadata": {
    "id": "hiTQDz98xGu1"
   },
   "outputs": [],
   "source": [
    "# backup\n",
    "df_new = df.copy()"
   ]
  },
  {
   "cell_type": "code",
   "execution_count": 13,
   "metadata": {
    "colab": {
     "base_uri": "https://localhost:8080/",
     "height": 226
    },
    "id": "EG7aCXfpxfAG",
    "outputId": "303adcd7-dabf-4a1d-efd9-5407f32e1d38"
   },
   "outputs": [],
   "source": [
    "# Lista de colunas a serem deletadas\n",
    "columns_to_delete = ['ID', 'Delivery_person_ID']\n",
    "\n",
    "# Delete de colunas\n",
    "df_new = df_new.drop(columns=columns_to_delete)"
   ]
  },
  {
   "cell_type": "code",
   "execution_count": 14,
   "metadata": {
    "colab": {
     "base_uri": "https://localhost:8080/",
     "height": 226
    },
    "id": "nGTzo3l6xraX",
    "outputId": "e58cb8da-e2bb-48cb-9c5c-6349d766f8b1"
   },
   "outputs": [
    {
     "data": {
      "text/html": [
       "<div>\n",
       "<style scoped>\n",
       "    .dataframe tbody tr th:only-of-type {\n",
       "        vertical-align: middle;\n",
       "    }\n",
       "\n",
       "    .dataframe tbody tr th {\n",
       "        vertical-align: top;\n",
       "    }\n",
       "\n",
       "    .dataframe thead th {\n",
       "        text-align: right;\n",
       "    }\n",
       "</style>\n",
       "<table border=\"1\" class=\"dataframe\">\n",
       "  <thead>\n",
       "    <tr style=\"text-align: right;\">\n",
       "      <th></th>\n",
       "      <th>Delivery_person_Age</th>\n",
       "      <th>Delivery_person_Ratings</th>\n",
       "      <th>Restaurant_latitude</th>\n",
       "      <th>Restaurant_longitude</th>\n",
       "      <th>Delivery_location_latitude</th>\n",
       "      <th>Delivery_location_longitude</th>\n",
       "      <th>Type_of_order</th>\n",
       "      <th>Type_of_vehicle</th>\n",
       "      <th>Time_taken(min)</th>\n",
       "      <th>distance</th>\n",
       "    </tr>\n",
       "  </thead>\n",
       "  <tbody>\n",
       "    <tr>\n",
       "      <th>0</th>\n",
       "      <td>37</td>\n",
       "      <td>4.9</td>\n",
       "      <td>22.745049</td>\n",
       "      <td>75.892471</td>\n",
       "      <td>22.765049</td>\n",
       "      <td>75.912471</td>\n",
       "      <td>Snack</td>\n",
       "      <td>motorcycle</td>\n",
       "      <td>24</td>\n",
       "      <td>3.025149</td>\n",
       "    </tr>\n",
       "    <tr>\n",
       "      <th>1</th>\n",
       "      <td>34</td>\n",
       "      <td>4.5</td>\n",
       "      <td>12.913041</td>\n",
       "      <td>77.683237</td>\n",
       "      <td>13.043041</td>\n",
       "      <td>77.813237</td>\n",
       "      <td>Snack</td>\n",
       "      <td>scooter</td>\n",
       "      <td>33</td>\n",
       "      <td>20.183530</td>\n",
       "    </tr>\n",
       "    <tr>\n",
       "      <th>2</th>\n",
       "      <td>23</td>\n",
       "      <td>4.4</td>\n",
       "      <td>12.914264</td>\n",
       "      <td>77.678400</td>\n",
       "      <td>12.924264</td>\n",
       "      <td>77.688400</td>\n",
       "      <td>Drinks</td>\n",
       "      <td>motorcycle</td>\n",
       "      <td>26</td>\n",
       "      <td>1.552758</td>\n",
       "    </tr>\n",
       "    <tr>\n",
       "      <th>3</th>\n",
       "      <td>38</td>\n",
       "      <td>4.7</td>\n",
       "      <td>11.003669</td>\n",
       "      <td>76.976494</td>\n",
       "      <td>11.053669</td>\n",
       "      <td>77.026494</td>\n",
       "      <td>Buffet</td>\n",
       "      <td>motorcycle</td>\n",
       "      <td>21</td>\n",
       "      <td>7.790401</td>\n",
       "    </tr>\n",
       "    <tr>\n",
       "      <th>4</th>\n",
       "      <td>32</td>\n",
       "      <td>4.6</td>\n",
       "      <td>12.972793</td>\n",
       "      <td>80.249982</td>\n",
       "      <td>13.012793</td>\n",
       "      <td>80.289982</td>\n",
       "      <td>Snack</td>\n",
       "      <td>scooter</td>\n",
       "      <td>30</td>\n",
       "      <td>6.210138</td>\n",
       "    </tr>\n",
       "  </tbody>\n",
       "</table>\n",
       "</div>"
      ],
      "text/plain": [
       "   Delivery_person_Age  Delivery_person_Ratings  Restaurant_latitude  \\\n",
       "0                   37                      4.9            22.745049   \n",
       "1                   34                      4.5            12.913041   \n",
       "2                   23                      4.4            12.914264   \n",
       "3                   38                      4.7            11.003669   \n",
       "4                   32                      4.6            12.972793   \n",
       "\n",
       "   Restaurant_longitude  Delivery_location_latitude  \\\n",
       "0             75.892471                   22.765049   \n",
       "1             77.683237                   13.043041   \n",
       "2             77.678400                   12.924264   \n",
       "3             76.976494                   11.053669   \n",
       "4             80.249982                   13.012793   \n",
       "\n",
       "   Delivery_location_longitude Type_of_order Type_of_vehicle  Time_taken(min)  \\\n",
       "0                    75.912471        Snack      motorcycle                24   \n",
       "1                    77.813237        Snack         scooter                33   \n",
       "2                    77.688400       Drinks      motorcycle                26   \n",
       "3                    77.026494       Buffet      motorcycle                21   \n",
       "4                    80.289982        Snack         scooter                30   \n",
       "\n",
       "    distance  \n",
       "0   3.025149  \n",
       "1  20.183530  \n",
       "2   1.552758  \n",
       "3   7.790401  \n",
       "4   6.210138  "
      ]
     },
     "execution_count": 14,
     "metadata": {},
     "output_type": "execute_result"
    }
   ],
   "source": [
    "def haversine_distance(lat1, lon1, lat2, lon2):\n",
    "    lat1, lon1, lat2, lon2 = map(np.radians, [lat1, lon1, lat2, lon2])\n",
    "    dlat = lat2 - lat1\n",
    "    dlon = lon2 - lon1\n",
    "    a = np.sin(dlat/2)**2 + np.cos(lat1) * np.cos(lat2) * np.sin(dlon/2)**2\n",
    "    c = 2 * np.arctan2(np.sqrt(a), np.sqrt(1-a))\n",
    "    distance = 6371 * c\n",
    "    return distance\n",
    "\n",
    "\n",
    "df_new['distance'] = df_new.apply(lambda row: haversine_distance(row['Restaurant_latitude'], row['Restaurant_longitude'], row['Delivery_location_latitude'], row['Delivery_location_longitude']), axis=1)\n",
    "\n",
    "df_new.head()"
   ]
  },
  {
   "cell_type": "code",
   "execution_count": 15,
   "metadata": {
    "id": "rqQpa1p6yN5O"
   },
   "outputs": [],
   "source": [
    "df_new['Time_taken(hr)'] = df_new['Time_taken(min)']/60\n",
    "df_new['speed'] = df_new['distance']/df_new['Time_taken(hr)']"
   ]
  },
  {
   "cell_type": "code",
   "execution_count": 16,
   "metadata": {
    "colab": {
     "base_uri": "https://localhost:8080/",
     "height": 226
    },
    "id": "VZz_tWefzD82",
    "outputId": "96da68c7-6427-41f6-d2df-62ee2b191d0f"
   },
   "outputs": [
    {
     "data": {
      "text/html": [
       "<div>\n",
       "<style scoped>\n",
       "    .dataframe tbody tr th:only-of-type {\n",
       "        vertical-align: middle;\n",
       "    }\n",
       "\n",
       "    .dataframe tbody tr th {\n",
       "        vertical-align: top;\n",
       "    }\n",
       "\n",
       "    .dataframe thead th {\n",
       "        text-align: right;\n",
       "    }\n",
       "</style>\n",
       "<table border=\"1\" class=\"dataframe\">\n",
       "  <thead>\n",
       "    <tr style=\"text-align: right;\">\n",
       "      <th></th>\n",
       "      <th>Delivery_person_Age</th>\n",
       "      <th>Delivery_person_Ratings</th>\n",
       "      <th>Restaurant_latitude</th>\n",
       "      <th>Restaurant_longitude</th>\n",
       "      <th>Delivery_location_latitude</th>\n",
       "      <th>Delivery_location_longitude</th>\n",
       "      <th>Type_of_order</th>\n",
       "      <th>Type_of_vehicle</th>\n",
       "      <th>Time_taken(min)</th>\n",
       "      <th>distance</th>\n",
       "      <th>Time_taken(hr)</th>\n",
       "      <th>speed</th>\n",
       "    </tr>\n",
       "  </thead>\n",
       "  <tbody>\n",
       "    <tr>\n",
       "      <th>0</th>\n",
       "      <td>37</td>\n",
       "      <td>4.9</td>\n",
       "      <td>22.745049</td>\n",
       "      <td>75.892471</td>\n",
       "      <td>22.765049</td>\n",
       "      <td>75.912471</td>\n",
       "      <td>Snack</td>\n",
       "      <td>motorcycle</td>\n",
       "      <td>24</td>\n",
       "      <td>3.025149</td>\n",
       "      <td>0.400000</td>\n",
       "      <td>7.562873</td>\n",
       "    </tr>\n",
       "    <tr>\n",
       "      <th>1</th>\n",
       "      <td>34</td>\n",
       "      <td>4.5</td>\n",
       "      <td>12.913041</td>\n",
       "      <td>77.683237</td>\n",
       "      <td>13.043041</td>\n",
       "      <td>77.813237</td>\n",
       "      <td>Snack</td>\n",
       "      <td>scooter</td>\n",
       "      <td>33</td>\n",
       "      <td>20.183530</td>\n",
       "      <td>0.550000</td>\n",
       "      <td>36.697327</td>\n",
       "    </tr>\n",
       "    <tr>\n",
       "      <th>2</th>\n",
       "      <td>23</td>\n",
       "      <td>4.4</td>\n",
       "      <td>12.914264</td>\n",
       "      <td>77.678400</td>\n",
       "      <td>12.924264</td>\n",
       "      <td>77.688400</td>\n",
       "      <td>Drinks</td>\n",
       "      <td>motorcycle</td>\n",
       "      <td>26</td>\n",
       "      <td>1.552758</td>\n",
       "      <td>0.433333</td>\n",
       "      <td>3.583287</td>\n",
       "    </tr>\n",
       "    <tr>\n",
       "      <th>3</th>\n",
       "      <td>38</td>\n",
       "      <td>4.7</td>\n",
       "      <td>11.003669</td>\n",
       "      <td>76.976494</td>\n",
       "      <td>11.053669</td>\n",
       "      <td>77.026494</td>\n",
       "      <td>Buffet</td>\n",
       "      <td>motorcycle</td>\n",
       "      <td>21</td>\n",
       "      <td>7.790401</td>\n",
       "      <td>0.350000</td>\n",
       "      <td>22.258290</td>\n",
       "    </tr>\n",
       "    <tr>\n",
       "      <th>4</th>\n",
       "      <td>32</td>\n",
       "      <td>4.6</td>\n",
       "      <td>12.972793</td>\n",
       "      <td>80.249982</td>\n",
       "      <td>13.012793</td>\n",
       "      <td>80.289982</td>\n",
       "      <td>Snack</td>\n",
       "      <td>scooter</td>\n",
       "      <td>30</td>\n",
       "      <td>6.210138</td>\n",
       "      <td>0.500000</td>\n",
       "      <td>12.420276</td>\n",
       "    </tr>\n",
       "  </tbody>\n",
       "</table>\n",
       "</div>"
      ],
      "text/plain": [
       "   Delivery_person_Age  Delivery_person_Ratings  Restaurant_latitude  \\\n",
       "0                   37                      4.9            22.745049   \n",
       "1                   34                      4.5            12.913041   \n",
       "2                   23                      4.4            12.914264   \n",
       "3                   38                      4.7            11.003669   \n",
       "4                   32                      4.6            12.972793   \n",
       "\n",
       "   Restaurant_longitude  Delivery_location_latitude  \\\n",
       "0             75.892471                   22.765049   \n",
       "1             77.683237                   13.043041   \n",
       "2             77.678400                   12.924264   \n",
       "3             76.976494                   11.053669   \n",
       "4             80.249982                   13.012793   \n",
       "\n",
       "   Delivery_location_longitude Type_of_order Type_of_vehicle  Time_taken(min)  \\\n",
       "0                    75.912471        Snack      motorcycle                24   \n",
       "1                    77.813237        Snack         scooter                33   \n",
       "2                    77.688400       Drinks      motorcycle                26   \n",
       "3                    77.026494       Buffet      motorcycle                21   \n",
       "4                    80.289982        Snack         scooter                30   \n",
       "\n",
       "    distance  Time_taken(hr)      speed  \n",
       "0   3.025149        0.400000   7.562873  \n",
       "1  20.183530        0.550000  36.697327  \n",
       "2   1.552758        0.433333   3.583287  \n",
       "3   7.790401        0.350000  22.258290  \n",
       "4   6.210138        0.500000  12.420276  "
      ]
     },
     "execution_count": 16,
     "metadata": {},
     "output_type": "execute_result"
    }
   ],
   "source": [
    "df_new.head()"
   ]
  },
  {
   "cell_type": "code",
   "execution_count": 17,
   "metadata": {
    "colab": {
     "base_uri": "https://localhost:8080/",
     "height": 206
    },
    "id": "p_7fNDr4zFYl",
    "outputId": "e07f1ab1-36f0-4f80-84e6-7f2ba5601a3a"
   },
   "outputs": [
    {
     "data": {
      "text/html": [
       "<div>\n",
       "<style scoped>\n",
       "    .dataframe tbody tr th:only-of-type {\n",
       "        vertical-align: middle;\n",
       "    }\n",
       "\n",
       "    .dataframe tbody tr th {\n",
       "        vertical-align: top;\n",
       "    }\n",
       "\n",
       "    .dataframe thead th {\n",
       "        text-align: right;\n",
       "    }\n",
       "</style>\n",
       "<table border=\"1\" class=\"dataframe\">\n",
       "  <thead>\n",
       "    <tr style=\"text-align: right;\">\n",
       "      <th></th>\n",
       "      <th>Delivery_person_Age</th>\n",
       "      <th>Delivery_person_Ratings</th>\n",
       "      <th>Type_of_order</th>\n",
       "      <th>Type_of_vehicle</th>\n",
       "      <th>Time_taken(min)</th>\n",
       "      <th>distance</th>\n",
       "      <th>speed</th>\n",
       "    </tr>\n",
       "  </thead>\n",
       "  <tbody>\n",
       "    <tr>\n",
       "      <th>0</th>\n",
       "      <td>37</td>\n",
       "      <td>4.9</td>\n",
       "      <td>Snack</td>\n",
       "      <td>motorcycle</td>\n",
       "      <td>24</td>\n",
       "      <td>3.025149</td>\n",
       "      <td>7.562873</td>\n",
       "    </tr>\n",
       "    <tr>\n",
       "      <th>1</th>\n",
       "      <td>34</td>\n",
       "      <td>4.5</td>\n",
       "      <td>Snack</td>\n",
       "      <td>scooter</td>\n",
       "      <td>33</td>\n",
       "      <td>20.183530</td>\n",
       "      <td>36.697327</td>\n",
       "    </tr>\n",
       "    <tr>\n",
       "      <th>2</th>\n",
       "      <td>23</td>\n",
       "      <td>4.4</td>\n",
       "      <td>Drinks</td>\n",
       "      <td>motorcycle</td>\n",
       "      <td>26</td>\n",
       "      <td>1.552758</td>\n",
       "      <td>3.583287</td>\n",
       "    </tr>\n",
       "    <tr>\n",
       "      <th>3</th>\n",
       "      <td>38</td>\n",
       "      <td>4.7</td>\n",
       "      <td>Buffet</td>\n",
       "      <td>motorcycle</td>\n",
       "      <td>21</td>\n",
       "      <td>7.790401</td>\n",
       "      <td>22.258290</td>\n",
       "    </tr>\n",
       "    <tr>\n",
       "      <th>4</th>\n",
       "      <td>32</td>\n",
       "      <td>4.6</td>\n",
       "      <td>Snack</td>\n",
       "      <td>scooter</td>\n",
       "      <td>30</td>\n",
       "      <td>6.210138</td>\n",
       "      <td>12.420276</td>\n",
       "    </tr>\n",
       "  </tbody>\n",
       "</table>\n",
       "</div>"
      ],
      "text/plain": [
       "   Delivery_person_Age  Delivery_person_Ratings Type_of_order Type_of_vehicle  \\\n",
       "0                   37                      4.9        Snack      motorcycle    \n",
       "1                   34                      4.5        Snack         scooter    \n",
       "2                   23                      4.4       Drinks      motorcycle    \n",
       "3                   38                      4.7       Buffet      motorcycle    \n",
       "4                   32                      4.6        Snack         scooter    \n",
       "\n",
       "   Time_taken(min)   distance      speed  \n",
       "0               24   3.025149   7.562873  \n",
       "1               33  20.183530  36.697327  \n",
       "2               26   1.552758   3.583287  \n",
       "3               21   7.790401  22.258290  \n",
       "4               30   6.210138  12.420276  "
      ]
     },
     "execution_count": 17,
     "metadata": {},
     "output_type": "execute_result"
    }
   ],
   "source": [
    "columns_to_drop = ['Restaurant_latitude', 'Restaurant_longitude', 'Delivery_location_latitude', 'Delivery_location_longitude', 'Time_taken(hr)']\n",
    "\n",
    "df_new = df_new.drop(columns=columns_to_drop )\n",
    "\n",
    "df_new.head()"
   ]
  },
  {
   "cell_type": "code",
   "execution_count": 18,
   "metadata": {
    "colab": {
     "base_uri": "https://localhost:8080/",
     "height": 300
    },
    "id": "yzk539_1zfTl",
    "outputId": "f856e390-4325-4fbf-897f-573c9b0f07d6"
   },
   "outputs": [
    {
     "data": {
      "text/html": [
       "<div>\n",
       "<style scoped>\n",
       "    .dataframe tbody tr th:only-of-type {\n",
       "        vertical-align: middle;\n",
       "    }\n",
       "\n",
       "    .dataframe tbody tr th {\n",
       "        vertical-align: top;\n",
       "    }\n",
       "\n",
       "    .dataframe thead th {\n",
       "        text-align: right;\n",
       "    }\n",
       "</style>\n",
       "<table border=\"1\" class=\"dataframe\">\n",
       "  <thead>\n",
       "    <tr style=\"text-align: right;\">\n",
       "      <th></th>\n",
       "      <th>distance</th>\n",
       "      <th>speed</th>\n",
       "    </tr>\n",
       "  </thead>\n",
       "  <tbody>\n",
       "    <tr>\n",
       "      <th>count</th>\n",
       "      <td>45593.000000</td>\n",
       "      <td>45593.000000</td>\n",
       "    </tr>\n",
       "    <tr>\n",
       "      <th>mean</th>\n",
       "      <td>99.303911</td>\n",
       "      <td>262.045334</td>\n",
       "    </tr>\n",
       "    <tr>\n",
       "      <th>std</th>\n",
       "      <td>1099.731281</td>\n",
       "      <td>3147.743785</td>\n",
       "    </tr>\n",
       "    <tr>\n",
       "      <th>min</th>\n",
       "      <td>1.465067</td>\n",
       "      <td>1.696010</td>\n",
       "    </tr>\n",
       "    <tr>\n",
       "      <th>25%</th>\n",
       "      <td>4.663493</td>\n",
       "      <td>12.581569</td>\n",
       "    </tr>\n",
       "    <tr>\n",
       "      <th>50%</th>\n",
       "      <td>9.264281</td>\n",
       "      <td>20.725588</td>\n",
       "    </tr>\n",
       "    <tr>\n",
       "      <th>75%</th>\n",
       "      <td>13.763977</td>\n",
       "      <td>31.595710</td>\n",
       "    </tr>\n",
       "    <tr>\n",
       "      <th>max</th>\n",
       "      <td>19692.674606</td>\n",
       "      <td>107403.910650</td>\n",
       "    </tr>\n",
       "  </tbody>\n",
       "</table>\n",
       "</div>"
      ],
      "text/plain": [
       "           distance          speed\n",
       "count  45593.000000   45593.000000\n",
       "mean      99.303911     262.045334\n",
       "std     1099.731281    3147.743785\n",
       "min        1.465067       1.696010\n",
       "25%        4.663493      12.581569\n",
       "50%        9.264281      20.725588\n",
       "75%       13.763977      31.595710\n",
       "max    19692.674606  107403.910650"
      ]
     },
     "execution_count": 18,
     "metadata": {},
     "output_type": "execute_result"
    }
   ],
   "source": [
    "df_new[['distance', 'speed']].describe()"
   ]
  },
  {
   "cell_type": "markdown",
   "metadata": {
    "id": "xfYjw0WSzzCV"
   },
   "source": [
    "A introdução de novas variáveis revelou certas inconsistências nos dados. Por exemplo, na coluna de distância, enquanto a distância máxima atinge 19692.67 km, o quarto quartil fica em 13.76 km. Uma questão semelhante surge na coluna de velocidade, com um valor no quarto quartil de 31.59, mas um valor máximo excepcional de 107403.91. Essas disparidades exigem uma investigação mais aprofundada para determinar possíveis anomalias ou erros no conjunto de dados."
   ]
  },
  {
   "cell_type": "code",
   "execution_count": 19,
   "metadata": {
    "colab": {
     "base_uri": "https://localhost:8080/",
     "height": 606
    },
    "id": "zijFMzog1eJD",
    "outputId": "f2393d5c-6ed9-4b84-be57-1eaa6fdeba89"
   },
   "outputs": [
    {
     "data": {
      "image/png": "[encoded data removed]",
      "text/plain": [
       "<Figure size 1200x600 with 2 Axes>"
      ]
     },
     "metadata": {},
     "output_type": "display_data"
    }
   ],
   "source": [
    "plt.figure(figsize=(12, 6))\n",
    "\n",
    "plt.subplot(1, 2, 1)  # Subplot 1\n",
    "plt.boxplot(df_new['distance'])\n",
    "plt.title('Boxplot da distância')\n",
    "plt.ylabel('Distância (km)')\n",
    "\n",
    "plt.subplot(1, 2, 2)  # Subplot 2\n",
    "plt.boxplot(df_new['speed'])\n",
    "plt.title('Boxplot da velocidade')\n",
    "plt.ylabel('Velocidade (km/h)')\n",
    "\n",
    "plt.tight_layout() \n",
    "plt.show()"
   ]
  },
  {
   "cell_type": "code",
   "execution_count": 20,
   "metadata": {
    "colab": {
     "base_uri": "https://localhost:8080/"
    },
    "id": "Lb1_SiXY1nvE",
    "outputId": "6ce0116a-047a-416f-b265-517cbf9b5162"
   },
   "outputs": [
    {
     "name": "stdout",
     "output_type": "stream",
     "text": [
      "O limiete superior da distance é 27.414703351191108 e o limite inferior é -8.987232986844802.\n",
      "O limiete superior da speed é 60.11692182808743 e o limite inferior é -15.939642264924677.\n"
     ]
    }
   ],
   "source": [
    "def outlier_boundary(dataset, column_list):\n",
    "    for column in column_list:\n",
    "        if column in dataset:\n",
    "            desc = dataset[column].describe()\n",
    "            Q1 = desc[\"25%\"]\n",
    "            Q3 = desc[\"75%\"]\n",
    "            IQR = Q3 - Q1\n",
    "            lower = Q1 - 1.5 * IQR\n",
    "            upper = Q3 + 1.5 * IQR\n",
    "            print(f\"O limiete superior da {column} é {upper} e o limite inferior é {lower}.\")\n",
    "\n",
    "# Application\n",
    "outlier_boundary(df_new, ['distance', 'speed'])"
   ]
  },
  {
   "cell_type": "code",
   "execution_count": 21,
   "metadata": {
    "id": "qgioa2Cd2OO0"
   },
   "outputs": [],
   "source": [
    "cols_outliers = ['distance', 'speed']\n",
    "\n",
    "for feature in cols_outliers:\n",
    "    Q1 = df_new[feature].quantile(q=0.25)  \n",
    "    Q3 = df_new[feature].quantile(q=0.75)  \n",
    "    IQR = Q3 - Q1  \n",
    "    Upper_Limit = Q3 + 1.5 * IQR  \n",
    "    Lower_Limit = Q1 - 1.5 * IQR  \n",
    "\n",
    "    \n",
    "    df_new = df_new.loc[(df_new[feature] >= Lower_Limit) & (df_new[feature] <= Upper_Limit)]\n",
    "\n",
    "   \n",
    "    df_new = df_new.reset_index(drop=True)"
   ]
  },
  {
   "cell_type": "code",
   "execution_count": 22,
   "metadata": {
    "colab": {
     "base_uri": "https://localhost:8080/",
     "height": 300
    },
    "id": "r85L0Vsw2rZk",
    "outputId": "8b71ab77-b0b8-42ba-985d-e0f22ba8922e",
    "scrolled": true
   },
   "outputs": [
    {
     "data": {
      "text/html": [
       "<div>\n",
       "<style scoped>\n",
       "    .dataframe tbody tr th:only-of-type {\n",
       "        vertical-align: middle;\n",
       "    }\n",
       "\n",
       "    .dataframe tbody tr th {\n",
       "        vertical-align: top;\n",
       "    }\n",
       "\n",
       "    .dataframe thead th {\n",
       "        text-align: right;\n",
       "    }\n",
       "</style>\n",
       "<table border=\"1\" class=\"dataframe\">\n",
       "  <thead>\n",
       "    <tr style=\"text-align: right;\">\n",
       "      <th></th>\n",
       "      <th>distance</th>\n",
       "      <th>speed</th>\n",
       "    </tr>\n",
       "  </thead>\n",
       "  <tbody>\n",
       "    <tr>\n",
       "      <th>count</th>\n",
       "      <td>43585.000000</td>\n",
       "      <td>43585.000000</td>\n",
       "    </tr>\n",
       "    <tr>\n",
       "      <th>mean</th>\n",
       "      <td>9.435049</td>\n",
       "      <td>22.060387</td>\n",
       "    </tr>\n",
       "    <tr>\n",
       "      <th>std</th>\n",
       "      <td>5.452926</td>\n",
       "      <td>12.720305</td>\n",
       "    </tr>\n",
       "    <tr>\n",
       "      <th>min</th>\n",
       "      <td>1.465067</td>\n",
       "      <td>1.696010</td>\n",
       "    </tr>\n",
       "    <tr>\n",
       "      <th>25%</th>\n",
       "      <td>4.657347</td>\n",
       "      <td>12.174454</td>\n",
       "    </tr>\n",
       "    <tr>\n",
       "      <th>50%</th>\n",
       "      <td>9.121874</td>\n",
       "      <td>19.948650</td>\n",
       "    </tr>\n",
       "    <tr>\n",
       "      <th>75%</th>\n",
       "      <td>13.407034</td>\n",
       "      <td>29.828812</td>\n",
       "    </tr>\n",
       "    <tr>\n",
       "      <th>max</th>\n",
       "      <td>20.969489</td>\n",
       "      <td>59.092155</td>\n",
       "    </tr>\n",
       "  </tbody>\n",
       "</table>\n",
       "</div>"
      ],
      "text/plain": [
       "           distance         speed\n",
       "count  43585.000000  43585.000000\n",
       "mean       9.435049     22.060387\n",
       "std        5.452926     12.720305\n",
       "min        1.465067      1.696010\n",
       "25%        4.657347     12.174454\n",
       "50%        9.121874     19.948650\n",
       "75%       13.407034     29.828812\n",
       "max       20.969489     59.092155"
      ]
     },
     "execution_count": 22,
     "metadata": {},
     "output_type": "execute_result"
    }
   ],
   "source": [
    "df_new[['distance', 'speed']].describe()"
   ]
  },
  {
   "cell_type": "code",
   "execution_count": 23,
   "metadata": {},
   "outputs": [
    {
     "data": {
      "image/png": "[encoded data removed]",
      "text/plain": [
       "<Figure size 1200x600 with 2 Axes>"
      ]
     },
     "metadata": {},
     "output_type": "display_data"
    }
   ],
   "source": [
    "plt.figure(figsize=(12, 6))\n",
    "\n",
    "plt.subplot(1, 2, 1)  \n",
    "plt.boxplot(df_new['distance'])\n",
    "plt.title('Boxplot da distância')\n",
    "plt.ylabel('Distância (km)')\n",
    "\n",
    "plt.subplot(1, 2, 2) \n",
    "plt.boxplot(df_new['speed'])\n",
    "plt.title('Boxplot da velocidade')\n",
    "plt.ylabel('Velocidade (km/h)')\n",
    "\n",
    "plt.tight_layout() \n",
    "plt.show()"
   ]
  },
  {
   "cell_type": "markdown",
   "metadata": {
    "id": "G3EvIOcv2tm8"
   },
   "source": [
    "Após o ajuste dos dados, surgem observações significativas. O valor máximo da distância agora gira em torno de aproximadamente 21 km, enquanto o mínimo fica em 1.46 km. Da mesma forma, na característica de velocidade, o valor máximo registrado é de 59 km/h, enquanto o mínimo é de cerca de 1.7 km/h. Esses intervalos refinados sugerem que o conjunto de dados agora apresenta uma representação mais coerente e precisa das informações subjacentes."
   ]
  },
  {
   "cell_type": "markdown",
   "metadata": {
    "id": "dzNPaCn42267"
   },
   "source": [
    "## Codificação de colunas categóricas e padronização das variáveis numéricas"
   ]
  },
  {
   "cell_type": "markdown",
   "metadata": {
    "id": "2EOIS0GA4oaZ"
   },
   "source": [
    "Ao realizar esta etapa de pré-processamento, visamos estabelecer uma base sólida para a construção de um modelo de machine learning eficaz\n",
    "\n",
    "Os passos de pré-processamento envolvem:\n",
    "\n",
    "* Escalonamento de Características Numéricas: Para garantir que nosso modelo funcione de forma ideal, aplicaremos escalonamento de características à `Delivery_person_Age`, `Distance` e `speed`usando StandardScaler e  `Delivery_person_Ratings` usando MinMaxScaler.\n",
    "\n",
    "* Codificação de Características Categóricas: Além disso, usaremos o OneHotEncoder para codificar as variáveis categóricas `Type_of_order` e `Type_of_vehicle`. Essa transformação converterá essas variáveis categóricas em formato numérico, criando colunas binárias distintas para cada categoria. Dessa forma, o modelo pode usar efetivamente essas variáveis durante o treinamento."
   ]
  },
  {
   "cell_type": "code",
   "execution_count": 24,
   "metadata": {},
   "outputs": [],
   "source": [
    "df_clean = df_new.copy()"
   ]
  },
  {
   "cell_type": "code",
   "execution_count": 25,
   "metadata": {
    "id": "nJ_gFVj-G4rZ"
   },
   "outputs": [],
   "source": [
    "std_scaler = StandardScaler()\n",
    "min_max = MinMaxScaler()\n",
    "\n",
    "df_clean['Delivery_person_Age'] = std_scaler.fit_transform(df_clean['Delivery_person_Age'].values.reshape(-1,1))\n",
    "df_clean['distance'] = std_scaler.fit_transform(df_clean['distance'].values.reshape(-1,1))\n",
    "df_clean['speed'] = std_scaler.fit_transform(df_clean['speed'].values.reshape(-1,1))\n",
    "df_clean['Delivery_person_Ratings'] = min_max.fit_transform(df_clean['Delivery_person_Ratings'].values.reshape(-1,1))"
   ]
  },
  {
   "cell_type": "code",
   "execution_count": 26,
   "metadata": {
    "colab": {
     "base_uri": "https://localhost:8080/",
     "height": 206
    },
    "id": "PwFSpREVHQuo",
    "outputId": "fb34c187-cd5b-4e67-9020-febba75b86fe"
   },
   "outputs": [
    {
     "data": {
      "text/html": [
       "<div>\n",
       "<style scoped>\n",
       "    .dataframe tbody tr th:only-of-type {\n",
       "        vertical-align: middle;\n",
       "    }\n",
       "\n",
       "    .dataframe tbody tr th {\n",
       "        vertical-align: top;\n",
       "    }\n",
       "\n",
       "    .dataframe thead th {\n",
       "        text-align: right;\n",
       "    }\n",
       "</style>\n",
       "<table border=\"1\" class=\"dataframe\">\n",
       "  <thead>\n",
       "    <tr style=\"text-align: right;\">\n",
       "      <th></th>\n",
       "      <th>Delivery_person_Age</th>\n",
       "      <th>Delivery_person_Ratings</th>\n",
       "      <th>Type_of_order</th>\n",
       "      <th>Type_of_vehicle</th>\n",
       "      <th>Time_taken(min)</th>\n",
       "      <th>distance</th>\n",
       "      <th>speed</th>\n",
       "    </tr>\n",
       "  </thead>\n",
       "  <tbody>\n",
       "    <tr>\n",
       "      <th>0</th>\n",
       "      <td>1.290293</td>\n",
       "      <td>0.78</td>\n",
       "      <td>Snack</td>\n",
       "      <td>motorcycle</td>\n",
       "      <td>24</td>\n",
       "      <td>-1.175511</td>\n",
       "      <td>-1.139727</td>\n",
       "    </tr>\n",
       "    <tr>\n",
       "      <th>1</th>\n",
       "      <td>0.763561</td>\n",
       "      <td>0.70</td>\n",
       "      <td>Snack</td>\n",
       "      <td>scooter</td>\n",
       "      <td>33</td>\n",
       "      <td>1.971163</td>\n",
       "      <td>1.150688</td>\n",
       "    </tr>\n",
       "    <tr>\n",
       "      <th>2</th>\n",
       "      <td>-1.167790</td>\n",
       "      <td>0.68</td>\n",
       "      <td>Drinks</td>\n",
       "      <td>motorcycle</td>\n",
       "      <td>26</td>\n",
       "      <td>-1.445533</td>\n",
       "      <td>-1.452584</td>\n",
       "    </tr>\n",
       "    <tr>\n",
       "      <th>3</th>\n",
       "      <td>1.465871</td>\n",
       "      <td>0.74</td>\n",
       "      <td>Buffet</td>\n",
       "      <td>motorcycle</td>\n",
       "      <td>21</td>\n",
       "      <td>-0.301612</td>\n",
       "      <td>0.015558</td>\n",
       "    </tr>\n",
       "    <tr>\n",
       "      <th>4</th>\n",
       "      <td>0.412406</td>\n",
       "      <td>0.72</td>\n",
       "      <td>Snack</td>\n",
       "      <td>scooter</td>\n",
       "      <td>30</td>\n",
       "      <td>-0.591416</td>\n",
       "      <td>-0.757861</td>\n",
       "    </tr>\n",
       "  </tbody>\n",
       "</table>\n",
       "</div>"
      ],
      "text/plain": [
       "   Delivery_person_Age  Delivery_person_Ratings Type_of_order Type_of_vehicle  \\\n",
       "0             1.290293                     0.78        Snack      motorcycle    \n",
       "1             0.763561                     0.70        Snack         scooter    \n",
       "2            -1.167790                     0.68       Drinks      motorcycle    \n",
       "3             1.465871                     0.74       Buffet      motorcycle    \n",
       "4             0.412406                     0.72        Snack         scooter    \n",
       "\n",
       "   Time_taken(min)  distance     speed  \n",
       "0               24 -1.175511 -1.139727  \n",
       "1               33  1.971163  1.150688  \n",
       "2               26 -1.445533 -1.452584  \n",
       "3               21 -0.301612  0.015558  \n",
       "4               30 -0.591416 -0.757861  "
      ]
     },
     "execution_count": 26,
     "metadata": {},
     "output_type": "execute_result"
    }
   ],
   "source": [
    "df_clean.head()"
   ]
  },
  {
   "cell_type": "code",
   "execution_count": 27,
   "metadata": {
    "id": "zGk7QtlyRRnd"
   },
   "outputs": [],
   "source": [
    "ohe = OneHotEncoder()\n",
    "\n",
    "cols_to_onehot = ['Type_of_order', 'Type_of_vehicle']\n",
    "\n",
    "df_encoded = ohe.fit_transform(df_clean[cols_to_onehot])\n",
    "df_encoded = pd.DataFrame(df_encoded.toarray(), columns=ohe.get_feature_names_out(cols_to_onehot))\n",
    "\n",
    "df_clean.drop(columns=cols_to_onehot, inplace=True)\n",
    "\n",
    "df_clean = pd.concat([df_clean.reset_index(drop=True), df_encoded], axis=1)"
   ]
  },
  {
   "cell_type": "code",
   "execution_count": 28,
   "metadata": {
    "colab": {
     "base_uri": "https://localhost:8080/",
     "height": 226
    },
    "id": "0vsTQe4PSKh9",
    "outputId": "b6ea6ae8-01f6-4270-be3f-365d18028db9"
   },
   "outputs": [
    {
     "data": {
      "text/html": [
       "<div>\n",
       "<style scoped>\n",
       "    .dataframe tbody tr th:only-of-type {\n",
       "        vertical-align: middle;\n",
       "    }\n",
       "\n",
       "    .dataframe tbody tr th {\n",
       "        vertical-align: top;\n",
       "    }\n",
       "\n",
       "    .dataframe thead th {\n",
       "        text-align: right;\n",
       "    }\n",
       "</style>\n",
       "<table border=\"1\" class=\"dataframe\">\n",
       "  <thead>\n",
       "    <tr style=\"text-align: right;\">\n",
       "      <th></th>\n",
       "      <th>Delivery_person_Age</th>\n",
       "      <th>Delivery_person_Ratings</th>\n",
       "      <th>Time_taken(min)</th>\n",
       "      <th>distance</th>\n",
       "      <th>speed</th>\n",
       "      <th>Type_of_order_Buffet</th>\n",
       "      <th>Type_of_order_Drinks</th>\n",
       "      <th>Type_of_order_Meal</th>\n",
       "      <th>Type_of_order_Snack</th>\n",
       "      <th>Type_of_vehicle_bicycle</th>\n",
       "      <th>Type_of_vehicle_electric_scooter</th>\n",
       "      <th>Type_of_vehicle_motorcycle</th>\n",
       "      <th>Type_of_vehicle_scooter</th>\n",
       "    </tr>\n",
       "  </thead>\n",
       "  <tbody>\n",
       "    <tr>\n",
       "      <th>0</th>\n",
       "      <td>1.290293</td>\n",
       "      <td>0.78</td>\n",
       "      <td>24</td>\n",
       "      <td>-1.175511</td>\n",
       "      <td>-1.139727</td>\n",
       "      <td>0.0</td>\n",
       "      <td>0.0</td>\n",
       "      <td>0.0</td>\n",
       "      <td>1.0</td>\n",
       "      <td>0.0</td>\n",
       "      <td>0.0</td>\n",
       "      <td>1.0</td>\n",
       "      <td>0.0</td>\n",
       "    </tr>\n",
       "    <tr>\n",
       "      <th>1</th>\n",
       "      <td>0.763561</td>\n",
       "      <td>0.70</td>\n",
       "      <td>33</td>\n",
       "      <td>1.971163</td>\n",
       "      <td>1.150688</td>\n",
       "      <td>0.0</td>\n",
       "      <td>0.0</td>\n",
       "      <td>0.0</td>\n",
       "      <td>1.0</td>\n",
       "      <td>0.0</td>\n",
       "      <td>0.0</td>\n",
       "      <td>0.0</td>\n",
       "      <td>1.0</td>\n",
       "    </tr>\n",
       "    <tr>\n",
       "      <th>2</th>\n",
       "      <td>-1.167790</td>\n",
       "      <td>0.68</td>\n",
       "      <td>26</td>\n",
       "      <td>-1.445533</td>\n",
       "      <td>-1.452584</td>\n",
       "      <td>0.0</td>\n",
       "      <td>1.0</td>\n",
       "      <td>0.0</td>\n",
       "      <td>0.0</td>\n",
       "      <td>0.0</td>\n",
       "      <td>0.0</td>\n",
       "      <td>1.0</td>\n",
       "      <td>0.0</td>\n",
       "    </tr>\n",
       "    <tr>\n",
       "      <th>3</th>\n",
       "      <td>1.465871</td>\n",
       "      <td>0.74</td>\n",
       "      <td>21</td>\n",
       "      <td>-0.301612</td>\n",
       "      <td>0.015558</td>\n",
       "      <td>1.0</td>\n",
       "      <td>0.0</td>\n",
       "      <td>0.0</td>\n",
       "      <td>0.0</td>\n",
       "      <td>0.0</td>\n",
       "      <td>0.0</td>\n",
       "      <td>1.0</td>\n",
       "      <td>0.0</td>\n",
       "    </tr>\n",
       "    <tr>\n",
       "      <th>4</th>\n",
       "      <td>0.412406</td>\n",
       "      <td>0.72</td>\n",
       "      <td>30</td>\n",
       "      <td>-0.591416</td>\n",
       "      <td>-0.757861</td>\n",
       "      <td>0.0</td>\n",
       "      <td>0.0</td>\n",
       "      <td>0.0</td>\n",
       "      <td>1.0</td>\n",
       "      <td>0.0</td>\n",
       "      <td>0.0</td>\n",
       "      <td>0.0</td>\n",
       "      <td>1.0</td>\n",
       "    </tr>\n",
       "  </tbody>\n",
       "</table>\n",
       "</div>"
      ],
      "text/plain": [
       "   Delivery_person_Age  Delivery_person_Ratings  Time_taken(min)  distance  \\\n",
       "0             1.290293                     0.78               24 -1.175511   \n",
       "1             0.763561                     0.70               33  1.971163   \n",
       "2            -1.167790                     0.68               26 -1.445533   \n",
       "3             1.465871                     0.74               21 -0.301612   \n",
       "4             0.412406                     0.72               30 -0.591416   \n",
       "\n",
       "      speed  Type_of_order_Buffet   Type_of_order_Drinks   \\\n",
       "0 -1.139727                    0.0                    0.0   \n",
       "1  1.150688                    0.0                    0.0   \n",
       "2 -1.452584                    0.0                    1.0   \n",
       "3  0.015558                    1.0                    0.0   \n",
       "4 -0.757861                    0.0                    0.0   \n",
       "\n",
       "   Type_of_order_Meal   Type_of_order_Snack   Type_of_vehicle_bicycle   \\\n",
       "0                  0.0                   1.0                       0.0   \n",
       "1                  0.0                   1.0                       0.0   \n",
       "2                  0.0                   0.0                       0.0   \n",
       "3                  0.0                   0.0                       0.0   \n",
       "4                  0.0                   1.0                       0.0   \n",
       "\n",
       "   Type_of_vehicle_electric_scooter   Type_of_vehicle_motorcycle   \\\n",
       "0                                0.0                          1.0   \n",
       "1                                0.0                          0.0   \n",
       "2                                0.0                          1.0   \n",
       "3                                0.0                          1.0   \n",
       "4                                0.0                          0.0   \n",
       "\n",
       "   Type_of_vehicle_scooter   \n",
       "0                       0.0  \n",
       "1                       1.0  \n",
       "2                       0.0  \n",
       "3                       0.0  \n",
       "4                       1.0  "
      ]
     },
     "execution_count": 28,
     "metadata": {},
     "output_type": "execute_result"
    }
   ],
   "source": [
    "df_clean.head()"
   ]
  },
  {
   "cell_type": "code",
   "execution_count": 29,
   "metadata": {
    "id": "IG0PNdGuSw4l"
   },
   "outputs": [],
   "source": [
    "X = df_clean.drop('Time_taken(min)', axis = 1)\n",
    "y = df_clean['Time_taken(min)']\n",
    "\n",
    "X_train, X_test, y_train, y_test = train_test_split(X,y, test_size = 0.25, stratify = y, random_state=42)"
   ]
  },
  {
   "cell_type": "code",
   "execution_count": 30,
   "metadata": {},
   "outputs": [
    {
     "data": {
      "text/plain": [
       "18981    26\n",
       "4183     27\n",
       "25780    22\n",
       "41344    26\n",
       "22256    16\n",
       "Name: Time_taken(min), dtype: int64"
      ]
     },
     "execution_count": 30,
     "metadata": {},
     "output_type": "execute_result"
    }
   ],
   "source": [
    "y_train.head()"
   ]
  },
  {
   "cell_type": "markdown",
   "metadata": {
    "id": "RVSefHknS_nE"
   },
   "source": [
    "# 4. Criando o modelo de Machine Learning\n",
    "\n"
   ]
  },
  {
   "cell_type": "code",
   "execution_count": 59,
   "metadata": {},
   "outputs": [],
   "source": [
    "def model_evaluation(X, y, model, verbose=True):\n",
    "    # Transformando os dados de entrada em arrays numpy\n",
    "    X = np.array(X)\n",
    "    y = np.array(y)\n",
    "\n",
    "    # Realizando a validação cruzada do modelo e calculando as métricas de avaliação\n",
    "    r2_scores = cross_val_score(model, X, y, scoring='r2')\n",
    "    mse_scores = -cross_val_score(model, X, y, scoring='neg_mean_squared_error')\n",
    "\n",
    "    # Armazenando as métricas em um dicionário\n",
    "    metrics = {\n",
    "        'R2 Score': r2_scores.mean(),\n",
    "        'R2 Score Std': r2_scores.std(),\n",
    "        'Mean Squared Error': mse_scores.mean(),\n",
    "        'Mean Squared Error Std': mse_scores.std()\n",
    "    }\n",
    "\n",
    "    # Exibindo as métricas se verbose=True\n",
    "    if verbose:\n",
    "        print(f'{model.__class__.__name__} metrics: {metrics}')\n",
    "\n",
    "    # Retornando o dicionário de métricas\n",
    "    return metrics"
   ]
  },
  {
   "cell_type": "code",
   "execution_count": 60,
   "metadata": {
    "colab": {
     "base_uri": "https://localhost:8080/"
    },
    "id": "XkI6FpqdV7Fz",
    "outputId": "75aef454-2eae-4d21-9b98-0b70187c8bf4"
   },
   "outputs": [],
   "source": [
    "linear_regression = LinearRegression()\n",
    "ridge_regression = Ridge()\n",
    "lasso_regression = Lasso()\n",
    "elastic_regression = ElasticNet()\n",
    "rf_regression = RandomForestRegressor()\n",
    "gradient_boosting = GradientBoostingRegressor()\n",
    "svr_regression= SVR(kernel='linear')\n",
    "\n",
    "models = [linear_regression,\n",
    "          ridge_regression,\n",
    "          lasso_regression,\n",
    "          elastic_regression,\n",
    "          rf_regression,\n",
    "          gradient_boosting,\n",
    "          svr_regression\n",
    "]\n",
    "\n",
    "metrics_dict = {}"
   ]
  },
  {
   "cell_type": "code",
   "execution_count": 61,
   "metadata": {},
   "outputs": [
    {
     "name": "stdout",
     "output_type": "stream",
     "text": [
      "LinearRegression metrics: {'R2 Score': 0.8094398806771442, 'R2 Score Std': 0.0013194678885079622, 'Mean Squared Error': 16.433228996464585, 'Mean Squared Error Std': 0.419397118555478}\n",
      "Ridge metrics: {'R2 Score': 0.8094448591470964, 'R2 Score Std': 0.0013171816309213455, 'Mean Squared Error': 16.432787404859834, 'Mean Squared Error Std': 0.4188514921739271}\n",
      "Lasso metrics: {'R2 Score': 0.7023254922524138, 'R2 Score Std': 0.0035318912542084773, 'Mean Squared Error': 25.672048120673622, 'Mean Squared Error Std': 0.7547778675055419}\n",
      "ElasticNet metrics: {'R2 Score': 0.39762613724804796, 'R2 Score Std': 0.0026742682411691086, 'Mean Squared Error': 51.944434401560486, 'Mean Squared Error Std': 1.2070777782896662}\n",
      "RandomForestRegressor metrics: {'R2 Score': 0.999215698974707, 'R2 Score Std': 0.00017999620386407715, 'Mean Squared Error': 0.06617168374501678, 'Mean Squared Error Std': 0.01352272492833655}\n",
      "GradientBoostingRegressor metrics: {'R2 Score': 0.9774728053809388, 'R2 Score Std': 0.001021585930179547, 'Mean Squared Error': 1.9426839356998844, 'Mean Squared Error Std': 0.10056376522404298}\n",
      "SVR metrics: {'R2 Score': 0.8036405391706335, 'R2 Score Std': 0.0017956134042872124, 'Mean Squared Error': 16.934489537214496, 'Mean Squared Error Std': 0.4845438712180762}\n"
     ]
    }
   ],
   "source": [
    "for model in models:\n",
    "    metrics = model_evaluation(X_train, y_train, model)\n",
    "    model_name = model.__class__.__name__\n",
    "    metrics_dict[model_name] = metrics\n",
    "\n",
    "df_metrics = pd.DataFrame.from_dict(metrics_dict, orient='index')"
   ]
  },
  {
   "cell_type": "code",
   "execution_count": 62,
   "metadata": {},
   "outputs": [
    {
     "data": {
      "text/html": [
       "<div>\n",
       "<style scoped>\n",
       "    .dataframe tbody tr th:only-of-type {\n",
       "        vertical-align: middle;\n",
       "    }\n",
       "\n",
       "    .dataframe tbody tr th {\n",
       "        vertical-align: top;\n",
       "    }\n",
       "\n",
       "    .dataframe thead th {\n",
       "        text-align: right;\n",
       "    }\n",
       "</style>\n",
       "<table border=\"1\" class=\"dataframe\">\n",
       "  <thead>\n",
       "    <tr style=\"text-align: right;\">\n",
       "      <th></th>\n",
       "      <th>R2 Score</th>\n",
       "      <th>R2 Score Std</th>\n",
       "      <th>Mean Squared Error</th>\n",
       "      <th>Mean Squared Error Std</th>\n",
       "    </tr>\n",
       "  </thead>\n",
       "  <tbody>\n",
       "    <tr>\n",
       "      <th>LinearRegression</th>\n",
       "      <td>0.809440</td>\n",
       "      <td>0.001319</td>\n",
       "      <td>16.433229</td>\n",
       "      <td>0.419397</td>\n",
       "    </tr>\n",
       "    <tr>\n",
       "      <th>Ridge</th>\n",
       "      <td>0.809445</td>\n",
       "      <td>0.001317</td>\n",
       "      <td>16.432787</td>\n",
       "      <td>0.418851</td>\n",
       "    </tr>\n",
       "    <tr>\n",
       "      <th>Lasso</th>\n",
       "      <td>0.702325</td>\n",
       "      <td>0.003532</td>\n",
       "      <td>25.672048</td>\n",
       "      <td>0.754778</td>\n",
       "    </tr>\n",
       "    <tr>\n",
       "      <th>ElasticNet</th>\n",
       "      <td>0.397626</td>\n",
       "      <td>0.002674</td>\n",
       "      <td>51.944434</td>\n",
       "      <td>1.207078</td>\n",
       "    </tr>\n",
       "    <tr>\n",
       "      <th>RandomForestRegressor</th>\n",
       "      <td>0.999216</td>\n",
       "      <td>0.000180</td>\n",
       "      <td>0.066172</td>\n",
       "      <td>0.013523</td>\n",
       "    </tr>\n",
       "    <tr>\n",
       "      <th>GradientBoostingRegressor</th>\n",
       "      <td>0.977473</td>\n",
       "      <td>0.001022</td>\n",
       "      <td>1.942684</td>\n",
       "      <td>0.100564</td>\n",
       "    </tr>\n",
       "    <tr>\n",
       "      <th>SVR</th>\n",
       "      <td>0.803641</td>\n",
       "      <td>0.001796</td>\n",
       "      <td>16.934490</td>\n",
       "      <td>0.484544</td>\n",
       "    </tr>\n",
       "  </tbody>\n",
       "</table>\n",
       "</div>"
      ],
      "text/plain": [
       "                           R2 Score  R2 Score Std  Mean Squared Error  \\\n",
       "LinearRegression           0.809440      0.001319           16.433229   \n",
       "Ridge                      0.809445      0.001317           16.432787   \n",
       "Lasso                      0.702325      0.003532           25.672048   \n",
       "ElasticNet                 0.397626      0.002674           51.944434   \n",
       "RandomForestRegressor      0.999216      0.000180            0.066172   \n",
       "GradientBoostingRegressor  0.977473      0.001022            1.942684   \n",
       "SVR                        0.803641      0.001796           16.934490   \n",
       "\n",
       "                           Mean Squared Error Std  \n",
       "LinearRegression                         0.419397  \n",
       "Ridge                                    0.418851  \n",
       "Lasso                                    0.754778  \n",
       "ElasticNet                               1.207078  \n",
       "RandomForestRegressor                    0.013523  \n",
       "GradientBoostingRegressor                0.100564  \n",
       "SVR                                      0.484544  "
      ]
     },
     "execution_count": 62,
     "metadata": {},
     "output_type": "execute_result"
    }
   ],
   "source": [
    "df_metrics"
   ]
  },
  {
   "cell_type": "markdown",
   "metadata": {},
   "source": [
    "\n",
    "Analisando as métricas de desempenho dos modelos, é possível tirar algumas conclusões:\n",
    "\n",
    "**R2 Score**: É uma medida que varia de 0 a 1, onde valores mais próximos de 1 indicam um modelo que se ajusta melhor aos dados. Valores próximos de 0 ou negativos indicam um ajuste fraco ou que o modelo não consegue capturar a variabilidade dos dados.\n",
    "\n",
    "**Mean Squared Error (Erro Quadrático Médio)**: Mede a média dos quadrados dos erros, onde valores menores indicam um modelo mais preciso.\n",
    "\n",
    "Com base nessas métricas:\n",
    "\n",
    "* RandomForestRegressor e GradientBoostingRegressor têm os melhores R² Score. O RandomForestRegressor teve um desempenho excepcionalmente alto, próximo a 1, indicando um ajuste quase perfeito aos dados de treinamento. O GradientBoostingRegressor também teve um desempenho muito bom, embora ligeiramente inferior ao RandomForestRegressor.\n",
    "\n",
    "* LinearRegression, Ridge e Lasso estão próximos em termos de R² Score, com pequenas variações. Isso sugere que a regularização (Ridge e Lasso) não teve um impacto significativo na performance em comparação com a regressão linear simples neste conjunto de dados.\n",
    "\n",
    "* Lasso (L1) apresentou um R² Score um pouco inferior ao Ridge (L2), o que pode indicar que a penalização L1 não foi tão benéfica quanto a penalização L2 para este conjunto de dados. No entanto, ambas estão próximas em termos de desempenho.\n",
    "\n",
    "* ElasticNet, uma combinação de penalizações L1 e L2, teve um desempenho intermediário. Ele pode ter encontrado um compromisso entre a seleção de variáveis (Lasso) e estabilidade (Ridge).\n",
    "\n",
    "* SVR obteve um R² Score razoável, mas ficou abaixo dos modelos baseados em árvore (RandomForestRegressor e GradientBoostingRegressor). Isso pode indicar que a relação entre as variáveis de entrada e saída não é completamente linear.\n",
    "\n",
    "* O MSE segue uma tendência semelhante ao R² Score, com os modelos com melhor R² Score também tendo um MSE mais baixo, o que indica menor erro médio ao prever os valores.\n",
    "\n",
    "Portanto, com base nessas métricas, o melhor modelo seria o de **RandomForestRegressor**. Este modelo apresentou melhor ajuste aos dados e menor erro médio quadrático em comparação com os outros modelos avaliados."
   ]
  },
  {
   "cell_type": "markdown",
   "metadata": {
    "id": "Q6dII-RFTYVh"
   },
   "source": [
    "## Tuning dos hiperparâmetros"
   ]
  },
  {
   "cell_type": "markdown",
   "metadata": {},
   "source": [
    "Os hiperparâmetros são configurações ajustáveis que não são aprendidos pelo modelo, mas que têm um papel crítico no desempenho e na capacidade do modelo de generalizar para novos dados.\n",
    "\n",
    "A importância do tuning de hiperparâmetros reside no fato de que diferentes conjuntos de hiperparâmetros podem levar a modelos com desempenhos muito diferentes, mesmo quando aplicados aos mesmos dados"
   ]
  },
  {
   "cell_type": "code",
   "execution_count": 63,
   "metadata": {},
   "outputs": [],
   "source": [
    "param_grid = {'n_estimators': [50, 100, 200],\n",
    "              'max_depth': [None, 10, 20],\n",
    "              'min_samples_split': [2, 5, 10],\n",
    "              'min_samples_leaf': [1, 2, 4]\n",
    "}\n",
    "\n",
    "model = RandomForestRegressor()\n",
    "\n",
    "grid_search = GridSearchCV(estimator=model, param_grid=param_grid, scoring='r2', cv=5)\n",
    "\n",
    "grid_search.fit(X_train, y_train)\n",
    "\n",
    "best_params = grid_search.best_params_\n",
    "best_model = grid_search.best_estimator_"
   ]
  },
  {
   "cell_type": "code",
   "execution_count": 64,
   "metadata": {},
   "outputs": [
    {
     "name": "stdout",
     "output_type": "stream",
     "text": [
      "Melhores hiperparâmetros: {'max_depth': None, 'min_samples_leaf': 1, 'min_samples_split': 2, 'n_estimators': 200}\n"
     ]
    }
   ],
   "source": [
    "print(\"Melhores hiperparâmetros:\", best_params)"
   ]
  },
  {
   "cell_type": "markdown",
   "metadata": {
    "id": "AEja5a8OVOBR"
   },
   "source": [
    "## Teste do modelo final"
   ]
  },
  {
   "cell_type": "code",
   "execution_count": 31,
   "metadata": {},
   "outputs": [],
   "source": [
    "best_model =  RandomForestRegressor(max_depth = None, min_samples_leaf = 1, min_samples_split = 2, n_estimators = 200)"
   ]
  },
  {
   "cell_type": "code",
   "execution_count": 32,
   "metadata": {},
   "outputs": [
    {
     "data": {
      "text/html": [
       "<style>#sk-container-id-1 {color: black;background-color: white;}#sk-container-id-1 pre{padding: 0;}#sk-container-id-1 div.sk-toggleable {background-color: white;}#sk-container-id-1 label.sk-toggleable__label {cursor: pointer;display: block;width: 100%;margin-bottom: 0;padding: 0.3em;box-sizing: border-box;text-align: center;}#sk-container-id-1 label.sk-toggleable__label-arrow:before {content: \"▸\";float: left;margin-right: 0.25em;color: #696969;}#sk-container-id-1 label.sk-toggleable__label-arrow:hover:before {color: black;}#sk-container-id-1 div.sk-estimator:hover label.sk-toggleable__label-arrow:before {color: black;}#sk-container-id-1 div.sk-toggleable__content {max-height: 0;max-width: 0;overflow: hidden;text-align: left;background-color: #f0f8ff;}#sk-container-id-1 div.sk-toggleable__content pre {margin: 0.2em;color: black;border-radius: 0.25em;background-color: #f0f8ff;}#sk-container-id-1 input.sk-toggleable__control:checked~div.sk-toggleable__content {max-height: 200px;max-width: 100%;overflow: auto;}#sk-container-id-1 input.sk-toggleable__control:checked~label.sk-toggleable__label-arrow:before {content: \"▾\";}#sk-container-id-1 div.sk-estimator input.sk-toggleable__control:checked~label.sk-toggleable__label {background-color: #d4ebff;}#sk-container-id-1 div.sk-label input.sk-toggleable__control:checked~label.sk-toggleable__label {background-color: #d4ebff;}#sk-container-id-1 input.sk-hidden--visually {border: 0;clip: rect(1px 1px 1px 1px);clip: rect(1px, 1px, 1px, 1px);height: 1px;margin: -1px;overflow: hidden;padding: 0;position: absolute;width: 1px;}#sk-container-id-1 div.sk-estimator {font-family: monospace;background-color: #f0f8ff;border: 1px dotted black;border-radius: 0.25em;box-sizing: border-box;margin-bottom: 0.5em;}#sk-container-id-1 div.sk-estimator:hover {background-color: #d4ebff;}#sk-container-id-1 div.sk-parallel-item::after {content: \"\";width: 100%;border-bottom: 1px solid gray;flex-grow: 1;}#sk-container-id-1 div.sk-label:hover label.sk-toggleable__label {background-color: #d4ebff;}#sk-container-id-1 div.sk-serial::before {content: \"\";position: absolute;border-left: 1px solid gray;box-sizing: border-box;top: 0;bottom: 0;left: 50%;z-index: 0;}#sk-container-id-1 div.sk-serial {display: flex;flex-direction: column;align-items: center;background-color: white;padding-right: 0.2em;padding-left: 0.2em;position: relative;}#sk-container-id-1 div.sk-item {position: relative;z-index: 1;}#sk-container-id-1 div.sk-parallel {display: flex;align-items: stretch;justify-content: center;background-color: white;position: relative;}#sk-container-id-1 div.sk-item::before, #sk-container-id-1 div.sk-parallel-item::before {content: \"\";position: absolute;border-left: 1px solid gray;box-sizing: border-box;top: 0;bottom: 0;left: 50%;z-index: -1;}#sk-container-id-1 div.sk-parallel-item {display: flex;flex-direction: column;z-index: 1;position: relative;background-color: white;}#sk-container-id-1 div.sk-parallel-item:first-child::after {align-self: flex-end;width: 50%;}#sk-container-id-1 div.sk-parallel-item:last-child::after {align-self: flex-start;width: 50%;}#sk-container-id-1 div.sk-parallel-item:only-child::after {width: 0;}#sk-container-id-1 div.sk-dashed-wrapped {border: 1px dashed gray;margin: 0 0.4em 0.5em 0.4em;box-sizing: border-box;padding-bottom: 0.4em;background-color: white;}#sk-container-id-1 div.sk-label label {font-family: monospace;font-weight: bold;display: inline-block;line-height: 1.2em;}#sk-container-id-1 div.sk-label-container {text-align: center;}#sk-container-id-1 div.sk-container {/* jupyter's `normalize.less` sets `[hidden] { display: none; }` but bootstrap.min.css set `[hidden] { display: none !important; }` so we also need the `!important` here to be able to override the default hidden behavior on the sphinx rendered scikit-learn.org. See: https://github.com/scikit-learn/scikit-learn/issues/21755 */display: inline-block !important;position: relative;}#sk-container-id-1 div.sk-text-repr-fallback {display: none;}</style><div id=\"sk-container-id-1\" class=\"sk-top-container\"><div class=\"sk-text-repr-fallback\"><pre>RandomForestRegressor(n_estimators=200)</pre><b>In a Jupyter environment, please rerun this cell to show the HTML representation or trust the notebook. <br />On GitHub, the HTML representation is unable to render, please try loading this page with nbviewer.org.</b></div><div class=\"sk-container\" hidden><div class=\"sk-item\"><div class=\"sk-estimator sk-toggleable\"><input class=\"sk-toggleable__control sk-hidden--visually\" id=\"sk-estimator-id-1\" type=\"checkbox\" checked><label for=\"sk-estimator-id-1\" class=\"sk-toggleable__label sk-toggleable__label-arrow\">RandomForestRegressor</label><div class=\"sk-toggleable__content\"><pre>RandomForestRegressor(n_estimators=200)</pre></div></div></div></div></div>"
      ],
      "text/plain": [
       "RandomForestRegressor(n_estimators=200)"
      ]
     },
     "execution_count": 32,
     "metadata": {},
     "output_type": "execute_result"
    }
   ],
   "source": [
    "# instanciando modelo final\n",
    "best_model.fit(X_train, y_train)"
   ]
  },
  {
   "cell_type": "code",
   "execution_count": 33,
   "metadata": {},
   "outputs": [],
   "source": [
    "y_pred = best_model.predict(X_test)"
   ]
  },
  {
   "cell_type": "code",
   "execution_count": 34,
   "metadata": {},
   "outputs": [
    {
     "name": "stdout",
     "output_type": "stream",
     "text": [
      "R2 do melhor modelo:  0.9992\n",
      "MSE do melhor modelo:  0.0651\n"
     ]
    }
   ],
   "source": [
    "r2 = r2_score(y_test, y_pred)\n",
    "mse = mean_squared_error(y_test, y_pred)\n",
    "\n",
    "\n",
    "print(f\"R2 do melhor modelo: {r2: .4f}\")\n",
    "print(f\"MSE do melhor modelo: {mse: .4f}\")"
   ]
  },
  {
   "cell_type": "markdown",
   "metadata": {},
   "source": [
    "### Feature Importance"
   ]
  },
  {
   "cell_type": "code",
   "execution_count": 35,
   "metadata": {},
   "outputs": [
    {
     "data": {
      "image/png": "[encoded data removed]",
      "text/plain": [
       "<Figure size 1000x600 with 1 Axes>"
      ]
     },
     "metadata": {},
     "output_type": "display_data"
    }
   ],
   "source": [
    "# Feature importance\n",
    "feature_importance = best_model.feature_importances_\n",
    "\n",
    "# Sort feature importances in descending order\n",
    "indices = np.argsort(feature_importance)[::-1]\n",
    "\n",
    "# Rearrange feature names so they match the sorted feature importances\n",
    "names = [X_train.columns[i] for i in indices]\n",
    "\n",
    "# Create plot\n",
    "plt.figure(figsize=(10, 6))\n",
    "plt.title(\"Feature Importance\")\n",
    "plt.barh(range(X_train.shape[1]), feature_importance[indices][::-1])  # Inverted\n",
    "plt.yticks(range(X_train.shape[1]), names[::-1], rotation=0)  # Inverted\n",
    "plt.xlabel(\"Importância\")\n",
    "plt.ylabel(\"Features\")\n",
    "sns.despine()\n",
    "plt.tight_layout()\n",
    "plt.show()"
   ]
  },
  {
   "cell_type": "markdown",
   "metadata": {},
   "source": [
    "Baseando-me nos valores de importância atribuídos às features no modelo de regressão com Random Forest:\n",
    "\n",
    "* Speed com importância próxima de 0.5: Isso sugere que a variável 'Speed' é considerada a mais influente na previsão do resultado alvo (a variável que você está tentando prever). É provável que a velocidade tenha um impacto substancial na resposta ou no resultado que o modelo está tentando capturar. No contexto de, por exemplo, previsões de entrega, isso pode indicar que a velocidade de entrega é um fator crucial na determinação de resultados como satisfação do cliente ou tempo de entrega.\n",
    "\n",
    "* Distance com importância entre 0.3 e 0.4: Embora não seja tão dominante quanto 'Speed', a 'Distance' ainda possui uma importância significativa. Isso implica que a distância a ser percorrida pode desempenhar um papel relevante nas previsões do modelo. Isso pode ser crucial em cenários logísticos, onde a distância pode influenciar custos, tempo de entrega e eficiência operacional.\n",
    "\n",
    "* Delivery_person_ratings com importância próxima de 0.2: Esta feature também possui uma importância considerável, embora menor em comparação com 'Speed' e 'Distance'. Isso sugere que a classificação do entregador pode impactar as previsões, mas talvez não tanto quanto a velocidade ou a distância. No entanto, ainda é um fator relevante na determinação do resultado previsto. Isso pode indicar que a qualidade do serviço prestado pelo entregador desempenha um papel moderado nas previsões.\n",
    "\n",
    "**Insights e Considerações**:\n",
    "\n",
    "* Priorização da Velocidade: A importância atribuída à 'Speed' destaca a importância de otimizar a velocidade de entrega para resultados positivos, como satisfação do cliente, retenção e eficiência operacional. E isto pode ser levando em consideração o meio de transporte utilizado pelo entregador.\n",
    "\n",
    "* Gerenciamento de Distância: 'Distance' também é um fator-chave. Estratégias para minimizar distâncias ou otimizar rotas podem melhorar a eficiência geral da entrega e reduzir custos operacionais.\n",
    "\n",
    "* Qualidade do Serviço do Entregador: Embora menos influente que velocidade e distância, a 'Delivery_person_ratings' ainda é relevante. Isso enfatiza a importância de manter altos padrões de serviço entre os entregadores para garantir a satisfação do cliente e a reputação do serviço de entrega."
   ]
  },
  {
   "cell_type": "markdown",
   "metadata": {
    "id": "Qn9ALEmfqZXD"
   },
   "source": [
    "### Salvando o modelo"
   ]
  },
  {
   "cell_type": "code",
   "execution_count": 39,
   "metadata": {},
   "outputs": [
    {
     "data": {
      "text/plain": [
       "['best_trained_model.joblib']"
      ]
     },
     "execution_count": 39,
     "metadata": {},
     "output_type": "execute_result"
    }
   ],
   "source": [
    "import joblib\n",
    "\n",
    "model_data = {\n",
    "    'best_model': best_model,\n",
    "    'std_scaler': std_scaler,\n",
    "    'min_max': min_max,\n",
    "    'ohe': ohe\n",
    "}\n",
    "\n",
    "model_filename = 'best_trained_model.joblib'\n",
    "joblib.dump(model_data, model_filename)"
   ]
  },
  {
   "cell_type": "markdown",
   "metadata": {
    "id": "QRbVKQ3_WDl7"
   },
   "source": [
    "# 5.Conclusão"
   ]
  },
  {
   "cell_type": "markdown",
   "metadata": {},
   "source": [
    "O projeto de Previsão de Tempo de Deliney procurou se utilizar de partes importantes do trabalho de um cientista de dados. Começando com uma análise exploratório para entender como estavam distribuídas as variáveis e analis-las. Também foi identificado atributos influentes, como distância e velocidade, que impactam os tempos de entrega. O refinamento dos dados foi essencial, incluindo tarefas de pré-processamento como escalonamento e codificação de variáveis, visando aprimorar o desempenho do modelo. A validação cruzada levou à escolha do RandomForestRegressor, cujo ajuste padrão resultou na melhor performance. No fim, o modelo selecionado demonstrou precisão na previsão dos tempos de entrega, consolidando o sucesso do projeto através da feature engineering, limpeza de dados e ajustes."
   ]
  },
  {
   "cell_type": "code",
   "execution_count": null,
   "metadata": {},
   "outputs": [],
   "source": []
  }
 ],
 "metadata": {
  "colab": {
   "provenance": []
  },
  "kernelspec": {
   "display_name": "Python 3 (ipykernel)",
   "language": "python",
   "name": "python3"
  },
  "language_info": {
   "codemirror_mode": {
    "name": "ipython",
    "version": 3
   },
   "file_extension": ".py",
   "mimetype": "text/x-python",
   "name": "python",
   "nbconvert_exporter": "python",
   "pygments_lexer": "ipython3",
   "version": "3.9.13"
  }
 },
 "nbformat": 4,
 "nbformat_minor": 1
}
